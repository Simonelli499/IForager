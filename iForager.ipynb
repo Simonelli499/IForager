{
 "cells": [
  {
   "cell_type": "code",
   "execution_count": 1,
   "metadata": {},
   "outputs": [],
   "source": [
    "import json\n",
    "import os\n",
    "from collections import Counter\n",
    "import matplotlib.pyplot as plt\n",
    "import matplotlib.patches as mpatches\n",
    "import numpy as np\n",
    "import scipy.optimize as opt\n",
    "import pandas as pd\n",
    "import statsmodels.api as sm\n",
    "import statsmodels.formula.api as smf\n",
    "from copy import deepcopy"
   ]
  },
  {
   "cell_type": "code",
   "execution_count": 2,
   "metadata": {},
   "outputs": [],
   "source": [
    "json_files = [pos_json for pos_json in os.listdir(\"Logs\") if pos_json.endswith('.json')]\n",
    "data = []\n",
    "for index, js in enumerate(json_files):\n",
    "    with open(os.path.join('./Logs/', js)) as json_file:\n",
    "        json_text = json.load(json_file)\n",
    "        data.append(json_text)"
   ]
  },
  {
   "cell_type": "code",
   "execution_count": 3,
   "metadata": {},
   "outputs": [],
   "source": [
    "names = []\n",
    "for idx in range(len(data)):\n",
    "    log = data[idx]\n",
    "    names.append(log[\"user\"][\"nickname\"])\n",
    "    \n",
    "new_order = [names.index(name) for name in sorted(names)]\n",
    "\n",
    "new_data = []\n",
    "for idx in new_order:\n",
    "    new_data.append(data[idx])\n",
    "data = deepcopy(new_data)"
   ]
  },
  {
   "cell_type": "code",
   "execution_count": 4,
   "metadata": {},
   "outputs": [],
   "source": [
    "def count_box_opened(trial_events):\n",
    "    hist = []\n",
    "    for event in trial_events:\n",
    "        if event[\"trialEvent\"].startswith(\"Opened\"):\n",
    "            hist.append(event[\"room\"])\n",
    "\n",
    "    count = Counter({\"North\": 0, \"South\": 0, \"East\": 0, \"West\": 0})\n",
    "    count.update(hist)\n",
    "    return hist, count\n",
    "\n",
    "def count_box_opened_over_trials(trials):\n",
    "    counts = {room: [] for room in [\"North\", \"South\", \"East\", \"West\"]}\n",
    "    hists = []\n",
    "    for trial in trials:\n",
    "        hist, count = count_box_opened(trial[\"events\"])\n",
    "        for room in [\"North\", \"South\", \"East\", \"West\"]:\n",
    "            counts[room].append(count[room])\n",
    "        hists.append(hist)\n",
    "    return counts, hists\n",
    "\n"
   ]
  },
  {
   "cell_type": "code",
   "execution_count": 12,
   "metadata": {},
   "outputs": [],
   "source": [
    "colors = {\"North\": \"b\", \"South\": \"r\", \"East\": \"y\", \"West\": \"g\"}"
   ]
  },
  {
   "cell_type": "code",
   "execution_count": 13,
   "metadata": {},
   "outputs": [
    {
     "name": "stderr",
     "output_type": "stream",
     "text": [
      "/var/folders/0g/b__jgt415791qz3xxph3zprh0000gn/T/ipykernel_1413/2461998522.py:9: RuntimeWarning: More than 20 figures have been opened. Figures created through the pyplot interface (`matplotlib.pyplot.figure`) are retained until explicitly closed and may consume too much memory. (To control this warning, see the rcParam `figure.max_open_warning`). Consider using `matplotlib.pyplot.close()`.\n",
      "  plt.figure(figsize=(5, 5))\n"
     ]
    },
    {
     "data": {
      "text/plain": [
       "<Figure size 500x500 with 0 Axes>"
      ]
     },
     "metadata": {},
     "output_type": "display_data"
    },
    {
     "data": {
      "text/plain": [
       "<Figure size 500x500 with 0 Axes>"
      ]
     },
     "metadata": {},
     "output_type": "display_data"
    },
    {
     "data": {
      "text/plain": [
       "<Figure size 500x500 with 0 Axes>"
      ]
     },
     "metadata": {},
     "output_type": "display_data"
    },
    {
     "data": {
      "text/plain": [
       "<Figure size 500x500 with 0 Axes>"
      ]
     },
     "metadata": {},
     "output_type": "display_data"
    },
    {
     "data": {
      "text/plain": [
       "<Figure size 500x500 with 0 Axes>"
      ]
     },
     "metadata": {},
     "output_type": "display_data"
    },
    {
     "data": {
      "text/plain": [
       "<Figure size 500x500 with 0 Axes>"
      ]
     },
     "metadata": {},
     "output_type": "display_data"
    },
    {
     "data": {
      "text/plain": [
       "<Figure size 500x500 with 0 Axes>"
      ]
     },
     "metadata": {},
     "output_type": "display_data"
    },
    {
     "data": {
      "text/plain": [
       "<Figure size 500x500 with 0 Axes>"
      ]
     },
     "metadata": {},
     "output_type": "display_data"
    },
    {
     "data": {
      "text/plain": [
       "<Figure size 500x500 with 0 Axes>"
      ]
     },
     "metadata": {},
     "output_type": "display_data"
    },
    {
     "data": {
      "text/plain": [
       "<Figure size 500x500 with 0 Axes>"
      ]
     },
     "metadata": {},
     "output_type": "display_data"
    },
    {
     "data": {
      "text/plain": [
       "<Figure size 500x500 with 0 Axes>"
      ]
     },
     "metadata": {},
     "output_type": "display_data"
    },
    {
     "data": {
      "text/plain": [
       "<Figure size 500x500 with 0 Axes>"
      ]
     },
     "metadata": {},
     "output_type": "display_data"
    },
    {
     "data": {
      "text/plain": [
       "<Figure size 500x500 with 0 Axes>"
      ]
     },
     "metadata": {},
     "output_type": "display_data"
    },
    {
     "data": {
      "text/plain": [
       "<Figure size 500x500 with 0 Axes>"
      ]
     },
     "metadata": {},
     "output_type": "display_data"
    },
    {
     "data": {
      "text/plain": [
       "<Figure size 500x500 with 0 Axes>"
      ]
     },
     "metadata": {},
     "output_type": "display_data"
    },
    {
     "data": {
      "text/plain": [
       "<Figure size 500x500 with 0 Axes>"
      ]
     },
     "metadata": {},
     "output_type": "display_data"
    },
    {
     "data": {
      "text/plain": [
       "<Figure size 500x500 with 0 Axes>"
      ]
     },
     "metadata": {},
     "output_type": "display_data"
    },
    {
     "data": {
      "text/plain": [
       "<Figure size 500x500 with 0 Axes>"
      ]
     },
     "metadata": {},
     "output_type": "display_data"
    },
    {
     "data": {
      "text/plain": [
       "<Figure size 500x500 with 0 Axes>"
      ]
     },
     "metadata": {},
     "output_type": "display_data"
    },
    {
     "data": {
      "text/plain": [
       "<Figure size 500x500 with 0 Axes>"
      ]
     },
     "metadata": {},
     "output_type": "display_data"
    },
    {
     "data": {
      "text/plain": [
       "<Figure size 500x500 with 0 Axes>"
      ]
     },
     "metadata": {},
     "output_type": "display_data"
    },
    {
     "data": {
      "text/plain": [
       "<Figure size 500x500 with 0 Axes>"
      ]
     },
     "metadata": {},
     "output_type": "display_data"
    },
    {
     "data": {
      "text/plain": [
       "<Figure size 500x500 with 0 Axes>"
      ]
     },
     "metadata": {},
     "output_type": "display_data"
    },
    {
     "data": {
      "text/plain": [
       "<Figure size 500x500 with 0 Axes>"
      ]
     },
     "metadata": {},
     "output_type": "display_data"
    },
    {
     "data": {
      "text/plain": [
       "<Figure size 500x500 with 0 Axes>"
      ]
     },
     "metadata": {},
     "output_type": "display_data"
    },
    {
     "data": {
      "text/plain": [
       "<Figure size 500x500 with 0 Axes>"
      ]
     },
     "metadata": {},
     "output_type": "display_data"
    },
    {
     "data": {
      "text/plain": [
       "<Figure size 500x500 with 0 Axes>"
      ]
     },
     "metadata": {},
     "output_type": "display_data"
    },
    {
     "data": {
      "text/plain": [
       "<Figure size 500x500 with 0 Axes>"
      ]
     },
     "metadata": {},
     "output_type": "display_data"
    },
    {
     "data": {
      "text/plain": [
       "<Figure size 500x500 with 0 Axes>"
      ]
     },
     "metadata": {},
     "output_type": "display_data"
    },
    {
     "data": {
      "text/plain": [
       "<Figure size 500x500 with 0 Axes>"
      ]
     },
     "metadata": {},
     "output_type": "display_data"
    },
    {
     "data": {
      "text/plain": [
       "<Figure size 500x500 with 0 Axes>"
      ]
     },
     "metadata": {},
     "output_type": "display_data"
    },
    {
     "data": {
      "text/plain": [
       "<Figure size 500x500 with 0 Axes>"
      ]
     },
     "metadata": {},
     "output_type": "display_data"
    },
    {
     "data": {
      "text/plain": [
       "<Figure size 500x500 with 0 Axes>"
      ]
     },
     "metadata": {},
     "output_type": "display_data"
    }
   ],
   "source": [
    "import random\n",
    "\n",
    "\n",
    "for idx in range(len(data)):\n",
    "    log = data[idx]\n",
    "    name = log[\"user\"][\"nickname\"]\n",
    " \n",
    "    counts, _ = count_box_opened_over_trials(log[\"trials\"])\n",
    "    plt.figure(figsize=(5, 5))\n",
    "    plt.suptitle (\"Subject \" + name)\n",
    "    for x,(roomName,count) in enumerate(counts.items()):\n",
    "        plt.subplot(4, 1, x+1)\n",
    "        plt.plot(np.arange(46), count, \".\", color=colors[roomName], alpha=.5)\n",
    "        plt.plot(np.arange(46), count, color=\"k\", alpha=.2)\n",
    "        \n",
    "        plt.title(roomName, color=colors[roomName], fontweight=\"bold\")\n",
    "        plt.ylim([-0.5, 7.5])\n",
    "        plt.yticks([0, 1, 2, 3, 4, 5])\n",
    "        plt.xlim([0, 46])\n",
    "        plt.xticks([])\n",
    "        \n",
    "        for x in range(0, 2):\n",
    "            plt.axvline(4.5 + x * 20, color=\"k\", alpha=0.5)\n",
    "            plt.axvline(25.5,color=\"k\", alpha=0.5) # ho aggiunto questa linea per dividere il trial di prova che separa i due blocchi\n",
    "            plt.text(4.5+x*20+8, 6, \"Blocco 1\" if x%2==0 else \"Blocco 2\") \n",
    "\n",
    "\n",
    "    plt.tight_layout()\n",
    "    plt.savefig(\"out/Subject\" + name + \"_hist.png\", dpi=300)\n",
    "    plt.clf()\n",
    "\n",
    "# modifica effettuata: dove ora c'è 46 (numero totale di trials), prima c'era 64\n",
    "# modifica: dove ora c'è 20 prima c'era 10. Questo perchè io ho due blocchi da 20 trials ciascuno (infatti ho cambiato anche for x in range(0, 2): dove prima era for x in range(0, 6):)\n",
    "# dove ora c'è 4.5 prima c'era 3.5. Io ho 5 trials di prova e non 4\n"
   ]
  },
  {
   "cell_type": "code",
   "execution_count": 19,
   "metadata": {},
   "outputs": [
    {
     "ename": "NameError",
     "evalue": "name 'trialCode' is not defined",
     "output_type": "error",
     "traceback": [
      "\u001b[0;31m---------------------------------------------------------------------------\u001b[0m",
      "\u001b[0;31mNameError\u001b[0m                                 Traceback (most recent call last)",
      "Cell \u001b[0;32mIn[19], line 34\u001b[0m\n\u001b[1;32m     30\u001b[0m plt\u001b[39m.\u001b[39maxvline(\u001b[39m25.5\u001b[39m,color\u001b[39m=\u001b[39m\u001b[39m\"\u001b[39m\u001b[39mk\u001b[39m\u001b[39m\"\u001b[39m, alpha\u001b[39m=\u001b[39m\u001b[39m1\u001b[39m) \u001b[39m# ho aggiunto questa linea per dividere il trial di prova che separa i due blocchi\u001b[39;00m\n\u001b[1;32m     32\u001b[0m textYPos \u001b[39m=\u001b[39m \u001b[39m-\u001b[39m\u001b[39m6\u001b[39m \u001b[39m# ho messo -6 perchè voglio che la posizione della scritta nel grafico \"Blocco 1\" e \"Blocco 2\" sia più bassa di quella del \"trialCode\", che infatti è -2) nel grafico \u001b[39;00m\n\u001b[0;32m---> 34\u001b[0m \u001b[39mif\u001b[39;00m trialCode\u001b[39m.\u001b[39mstartswith(\u001b[39m\"\u001b[39m\u001b[39mtrial_A\u001b[39m\u001b[39m\"\u001b[39m) \u001b[39mor\u001b[39;00m trialCode\u001b[39m.\u001b[39mstartswith(\u001b[39m\"\u001b[39m\u001b[39mtrial_B\u001b[39m\u001b[39m\"\u001b[39m):\n\u001b[1;32m     35\u001b[0m     plt\u001b[39m.\u001b[39mtext(\u001b[39m4.5\u001b[39m\u001b[39m+\u001b[39mx\u001b[39m*\u001b[39m\u001b[39m20\u001b[39m\u001b[39m+\u001b[39m\u001b[39m8\u001b[39m, textYPos, \u001b[39m\"\u001b[39m\u001b[39mLong Battery trials\u001b[39m\u001b[39m\"\u001b[39m, color\u001b[39m=\u001b[39m\u001b[39m\"\u001b[39m\u001b[39mk\u001b[39m\u001b[39m\"\u001b[39m, fontweight\u001b[39m=\u001b[39m\u001b[39m\"\u001b[39m\u001b[39mbold\u001b[39m\u001b[39m\"\u001b[39m)\n\u001b[1;32m     36\u001b[0m \u001b[39mif\u001b[39;00m trialCode\u001b[39m.\u001b[39mstartswith(\u001b[39m\"\u001b[39m\u001b[39mtrial_C\u001b[39m\u001b[39m\"\u001b[39m) \u001b[39mor\u001b[39;00m trialCode\u001b[39m.\u001b[39mstartswith(\u001b[39m\"\u001b[39m\u001b[39mtrial_D\u001b[39m\u001b[39m\"\u001b[39m):\n",
      "\u001b[0;31mNameError\u001b[0m: name 'trialCode' is not defined"
     ]
    },
    {
     "data": {
      "image/png": "[encoded data removed]",
      "text/plain": [
       "<Figure size 1000x600 with 1 Axes>"
      ]
     },
     "metadata": {},
     "output_type": "display_data"
    }
   ],
   "source": [
    "nicknames = {}\n",
    "counter = 0\n",
    "\n",
    "for idx in range(len(data)):\n",
    "    log = data[idx]\n",
    "    name = log[\"user\"][\"nickname\"] #per estrarre il valore del nickname contenuto dentro user e assegnarlo alla variabile name\n",
    "  \n",
    "    if name not in nicknames:\n",
    "        counter += 1\n",
    "        nicknames[name] = counter\n",
    "\n",
    "    participant_code = str(nicknames[name])\n",
    "\n",
    "    _, hists = count_box_opened_over_trials(log[\"trials\"])\n",
    "    \n",
    "\n",
    "    plt.figure(figsize=(10, 6)) # era 10,3...quindi ho ingrandito un po' la size della figura sulla y\n",
    "    plt.title(\"Subject \" + participant_code)\n",
    "    for x,hist in enumerate(hists): #enumerate viene usato per ottenere sia l'indice x che il valore hist da ogni elemento di hists\n",
    "        y = 0\n",
    "        for room in hist:\n",
    "            plt.scatter(x, y, color=colors[room], marker=\"s\", s=70, edgecolors=\"k\")\n",
    "            #mettere qui la stellina * (se ricca metti stella, se povera non metti nulla)\n",
    "            #guardare z order per spostare su y - order in layer\n",
    "            #parametro alpha, va da 0 a 1 - 0 se trasparente\n",
    "            y += 1\n",
    "            \n",
    "    for x in range(0, 2): #mi crea le linee per separare i blocchi\n",
    "        plt.axvline(4.5 + x * 20, color=\"k\", alpha=1)\n",
    "        plt.axvline(25.5,color=\"k\", alpha=1) # ho aggiunto questa linea per dividere il trial di prova che separa i due blocchi\n",
    "            \n",
    "        textYPos = -6 # ho messo -6 perchè voglio che la posizione della scritta nel grafico \"Blocco 1\" e \"Blocco 2\" sia più bassa di quella del \"trialCode\", che infatti è -2) nel grafico \n",
    "        \n",
    "        if trialCode.startswith(\"trial_A\") or trialCode.startswith(\"trial_B\"):\n",
    "            plt.text(4.5+x*20+8, textYPos, \"Long Battery trials\", color=\"k\", fontweight=\"bold\")\n",
    "        if trialCode.startswith(\"trial_C\") or trialCode.startswith(\"trial_D\"):\n",
    "            plt.text(4.5+x*20+8, textYPos, \"Short Battery trials\", color=\"k\", fontweight=\"bold\")\n",
    "\n",
    "    \n",
    "    for x, trial in enumerate(log[\"trials\"]): # qui ciclo tra gli elementi della lista log[\"trials\"].  NB: uso enumerate perchè mi dà sia l'indice (x) che il valore (trial) di ogni elemento nella lista.\n",
    "        trialCode = trial[\"trialCode\"] # per ciascun elemento trials nella lista io voglio il suo trialCode\n",
    "        plt.text(x , -2.5, trialCode, ha='center', va='center', rotation='vertical') # per scrivere sotto ogni riga il nome del trial (trialCode)\n",
    "        #commento la riga sopra: x é la posizione orizzontale della colonna corrente nel grafico, -2.5 è posizione sull'asse verticale della scritta\n",
    "        \n",
    " \n",
    "        \n",
    "    plt.yticks([])\n",
    "    plt.ylabel(\"# Boxes opened\")\n",
    "    plt.xlabel(\"Trials\")\n",
    "    plt.xticks([])\n",
    "    plt.axis(\"equal\") # per avere lo spazio figura-bordo uguale sia su x che su y\n",
    "    plt.tight_layout()\n",
    "\n",
    "    handles = [] # qui sto inizializzando una lista vuota\n",
    "    for room, color in colors.items():\n",
    "        patch = mpatches.Patch(color=color, label=room)\n",
    "        handles.append(patch) #qui riempio la lista che ho creato 3 righe sopra\n",
    "    plt.legend(handles=handles) #per creare la legenda\n",
    "\n",
    "    \n",
    "    plt.savefig(\"out/Subject\" + name + \"_hists.png\", dpi=300)\n",
    "    plt.clf()\n",
    "\n"
   ]
  },
  {
   "cell_type": "code",
   "execution_count": null,
   "metadata": {},
   "outputs": [
    {
     "name": "stderr",
     "output_type": "stream",
     "text": [
      "/var/folders/0g/b__jgt415791qz3xxph3zprh0000gn/T/ipykernel_3082/1990583610.py:17: RuntimeWarning: More than 20 figures have been opened. Figures created through the pyplot interface (`matplotlib.pyplot.figure`) are retained until explicitly closed and may consume too much memory. (To control this warning, see the rcParam `figure.max_open_warning`). Consider using `matplotlib.pyplot.close()`.\n",
      "  plt.figure(figsize=(10, 6)) # era 10,3...quindi ho ingrandito un po' la size della figura sulla y\n"
     ]
    },
    {
     "data": {
      "text/plain": [
       "<Figure size 1000x600 with 0 Axes>"
      ]
     },
     "metadata": {},
     "output_type": "display_data"
    },
    {
     "data": {
      "text/plain": [
       "<Figure size 1000x600 with 0 Axes>"
      ]
     },
     "metadata": {},
     "output_type": "display_data"
    },
    {
     "data": {
      "text/plain": [
       "<Figure size 1000x600 with 0 Axes>"
      ]
     },
     "metadata": {},
     "output_type": "display_data"
    },
    {
     "data": {
      "text/plain": [
       "<Figure size 1000x600 with 0 Axes>"
      ]
     },
     "metadata": {},
     "output_type": "display_data"
    },
    {
     "data": {
      "text/plain": [
       "<Figure size 1000x600 with 0 Axes>"
      ]
     },
     "metadata": {},
     "output_type": "display_data"
    },
    {
     "data": {
      "text/plain": [
       "<Figure size 1000x600 with 0 Axes>"
      ]
     },
     "metadata": {},
     "output_type": "display_data"
    },
    {
     "data": {
      "text/plain": [
       "<Figure size 1000x600 with 0 Axes>"
      ]
     },
     "metadata": {},
     "output_type": "display_data"
    },
    {
     "data": {
      "text/plain": [
       "<Figure size 1000x600 with 0 Axes>"
      ]
     },
     "metadata": {},
     "output_type": "display_data"
    },
    {
     "data": {
      "text/plain": [
       "<Figure size 1000x600 with 0 Axes>"
      ]
     },
     "metadata": {},
     "output_type": "display_data"
    },
    {
     "data": {
      "text/plain": [
       "<Figure size 1000x600 with 0 Axes>"
      ]
     },
     "metadata": {},
     "output_type": "display_data"
    },
    {
     "data": {
      "text/plain": [
       "<Figure size 1000x600 with 0 Axes>"
      ]
     },
     "metadata": {},
     "output_type": "display_data"
    },
    {
     "data": {
      "text/plain": [
       "<Figure size 1000x600 with 0 Axes>"
      ]
     },
     "metadata": {},
     "output_type": "display_data"
    },
    {
     "data": {
      "text/plain": [
       "<Figure size 1000x600 with 0 Axes>"
      ]
     },
     "metadata": {},
     "output_type": "display_data"
    },
    {
     "data": {
      "text/plain": [
       "<Figure size 1000x600 with 0 Axes>"
      ]
     },
     "metadata": {},
     "output_type": "display_data"
    },
    {
     "data": {
      "text/plain": [
       "<Figure size 1000x600 with 0 Axes>"
      ]
     },
     "metadata": {},
     "output_type": "display_data"
    },
    {
     "data": {
      "text/plain": [
       "<Figure size 1000x600 with 0 Axes>"
      ]
     },
     "metadata": {},
     "output_type": "display_data"
    },
    {
     "data": {
      "text/plain": [
       "<Figure size 1000x600 with 0 Axes>"
      ]
     },
     "metadata": {},
     "output_type": "display_data"
    },
    {
     "data": {
      "text/plain": [
       "<Figure size 1000x600 with 0 Axes>"
      ]
     },
     "metadata": {},
     "output_type": "display_data"
    },
    {
     "data": {
      "text/plain": [
       "<Figure size 1000x600 with 0 Axes>"
      ]
     },
     "metadata": {},
     "output_type": "display_data"
    },
    {
     "data": {
      "text/plain": [
       "<Figure size 1000x600 with 0 Axes>"
      ]
     },
     "metadata": {},
     "output_type": "display_data"
    },
    {
     "data": {
      "text/plain": [
       "<Figure size 1000x600 with 0 Axes>"
      ]
     },
     "metadata": {},
     "output_type": "display_data"
    },
    {
     "data": {
      "text/plain": [
       "<Figure size 1000x600 with 0 Axes>"
      ]
     },
     "metadata": {},
     "output_type": "display_data"
    },
    {
     "data": {
      "text/plain": [
       "<Figure size 1000x600 with 0 Axes>"
      ]
     },
     "metadata": {},
     "output_type": "display_data"
    },
    {
     "data": {
      "text/plain": [
       "<Figure size 1000x600 with 0 Axes>"
      ]
     },
     "metadata": {},
     "output_type": "display_data"
    },
    {
     "data": {
      "text/plain": [
       "<Figure size 1000x600 with 0 Axes>"
      ]
     },
     "metadata": {},
     "output_type": "display_data"
    },
    {
     "data": {
      "text/plain": [
       "<Figure size 1000x600 with 0 Axes>"
      ]
     },
     "metadata": {},
     "output_type": "display_data"
    },
    {
     "data": {
      "text/plain": [
       "<Figure size 1000x600 with 0 Axes>"
      ]
     },
     "metadata": {},
     "output_type": "display_data"
    },
    {
     "data": {
      "text/plain": [
       "<Figure size 1000x600 with 0 Axes>"
      ]
     },
     "metadata": {},
     "output_type": "display_data"
    },
    {
     "data": {
      "text/plain": [
       "<Figure size 1000x600 with 0 Axes>"
      ]
     },
     "metadata": {},
     "output_type": "display_data"
    },
    {
     "data": {
      "text/plain": [
       "<Figure size 1000x600 with 0 Axes>"
      ]
     },
     "metadata": {},
     "output_type": "display_data"
    },
    {
     "data": {
      "text/plain": [
       "<Figure size 1000x600 with 0 Axes>"
      ]
     },
     "metadata": {},
     "output_type": "display_data"
    },
    {
     "data": {
      "text/plain": [
       "<Figure size 1000x600 with 0 Axes>"
      ]
     },
     "metadata": {},
     "output_type": "display_data"
    }
   ],
   "source": [
    "################################\n",
    "nicknames = {}\n",
    "counter = 0\n",
    "\n",
    "for idx in range(len(data)):\n",
    "    log = data[idx]\n",
    "    name = log[\"user\"][\"nickname\"] #per estrarre il valore del nickname contenuto dentro user e assegnarlo alla variabile name\n",
    "  \n",
    "    if name not in nicknames:\n",
    "        counter += 1\n",
    "        nicknames[name] = counter\n",
    "\n",
    "    participant_code = str(nicknames[name])\n",
    "\n",
    "    _, hists = count_box_opened_over_trials(log[\"trials\"])\n",
    "    \n",
    "\n",
    "    plt.figure(figsize=(10, 6)) # era 10,3...quindi ho ingrandito un po' la size della figura sulla y\n",
    "    plt.title(\"Subject \" + participant_code)\n",
    "    for x,hist in enumerate(hists): #enumerate viene usato per ottenere sia l'indice x che il valore hist da ogni elemento di hists\n",
    "        y = 0\n",
    "        for room in hist:\n",
    "            if not trialCode.startswith(\"tutorial\"): \n",
    "                plt.scatter(x, y, color=colors[room], marker=\"s\", s=70, edgecolors=\"k\")\n",
    "            #mettere qui la stellina * (se ricca metti stella, se povera non metti nulla)\n",
    "            #guardare z order per spostare su y - order in layer\n",
    "            #parametro alpha, va da 0 a 1 - 0 se trasparente\n",
    "                y += 1\n",
    "            \n",
    "    for x in range(0, 2): #mi crea le linee per separare i blocchi\n",
    "            plt.axvline(4.5 + x * 20, color=\"k\", alpha=1)\n",
    "    #     plt.axvline(25.5,color=\"k\", alpha=1) # ho aggiunto questa linea per dividere il trial di prova che separa i due blocchi\n",
    "            \n",
    "    #     textYPos = -6 # ho messo -6 perchè voglio che la posizione della scritta nel grafico \"Blocco 1\" e \"Blocco 2\" sia più bassa di quella del \"trialCode\", che infatti è -2) nel grafico \n",
    "        \n",
    "    if trialCode.startswith(\"trial_A\") or trialCode.startswith(\"trial_B\"):\n",
    "        plt.text(4.5+x*20+8, textYPos, \"Long Battery trials\", color=\"k\", fontweight=\"bold\")\n",
    "    if trialCode.startswith(\"trial_C\") or trialCode.startswith(\"trial_D\"):\n",
    "        plt.text(4.5+x*20+8, textYPos, \"Short Battery trials\", color=\"k\", fontweight=\"bold\")\n",
    "\n",
    "    \n",
    "    # for x, trial in enumerate(log[\"trials\"]): # qui ciclo tra gli elementi della lista log[\"trials\"].  NB: uso enumerate perchè mi dà sia l'indice (x) che il valore (trial) di ogni elemento nella lista.\n",
    "    #     trialCode = trial[\"trialCode\"] # per ciascun elemento trials nella lista io voglio il suo trialCode\n",
    "    #     plt.text(x , -2.5, trialCode, ha='center', va='center', rotation='vertical') # per scrivere sotto ogni riga il nome del trial (trialCode)\n",
    "    #     #commento la riga sopra: x é la posizione orizzontale della colonna corrente nel grafico, -2.5 è posizione sull'asse verticale della scritta\n",
    "        \n",
    " \n",
    "        \n",
    "    plt.yticks([])\n",
    "    plt.ylabel(\"# Boxes opened\")\n",
    "    plt.xlabel(\"Trials\")\n",
    "    plt.xticks([])\n",
    "    plt.axis(\"equal\") # per avere lo spazio figura-bordo uguale sia su x che su y\n",
    "    plt.tight_layout()\n",
    "\n",
    "    handles = [] # qui sto inizializzando una lista vuota\n",
    "    for room, color in colors.items():\n",
    "        patch = mpatches.Patch(color=color, label=room)\n",
    "        handles.append(patch) #qui riempio la lista che ho creato 3 righe sopra\n",
    "    plt.legend(handles=handles) #per creare la legenda\n",
    "\n",
    "    \n",
    "    plt.savefig(\"out/Subject\" + name + \"_prova.png\", dpi=300)\n",
    "    plt.clf()"
   ]
  },
  {
   "cell_type": "code",
   "execution_count": 8,
   "metadata": {},
   "outputs": [
    {
     "name": "stdout",
     "output_type": "stream",
     "text": [
      "Dati esportati in out/results.xlsx e out/results.csv\n"
     ]
    }
   ],
   "source": [
    "import pandas as pd #mi serve per salvarmi poi i results in un file excell\n",
    "\n",
    "results = [] #inzializzo la lista risultati fuori dal ciclo\n",
    "\n",
    "nicknames = {}\n",
    "counter = 0\n",
    "\n",
    "for idx in range(len(data)):\n",
    "    log = data[idx]\n",
    "    name = log[\"user\"][\"nickname\"]  # Per estrarre il valore del nickname contenuto dentro user e assegnarlo alla variabile name\n",
    "    if name not in nicknames:\n",
    "        counter += 1\n",
    "        nicknames[name] = counter\n",
    "\n",
    "    assigned_number = nicknames[name]\n",
    "\n",
    "\n",
    "    trials = log.get(\"trials\", [])  # Se la chiave \"trials\" non è presente in log, viene assegnata una lista vuota [] come valore predefinito\n",
    "\n",
    "    for trial in trials:\n",
    "        trial_number = trial.get (\"trialNumber\")\n",
    "        trial_code = trial.get(\"trialCode\")\n",
    "        \n",
    "        # Aggiungi una condizione per scartare i trials che iniziano con \"tutorial\"\n",
    "        if trial_code is not None and not trial_code.startswith(\"tutorial\"): # se il trialCode inizia con \"tutorial\" non prenderlo! - così scarto già i tutorials dall'analisi\n",
    "            events = trial.get(\"events\", [])\n",
    "            opened_box_count = 0  # creo una variabile che inizializzo a zero per contare quante viene aperta una box nel trial corrente\n",
    "            firstareaopened_box_count = 0\n",
    "            value_box_count = 0 # creo una variabile che inizializzo a zero per contare quante monete vengono raccolte in totale nel trial corrente \n",
    "            mean_box_count = 0 # creo una variabile che inizializzo a zero per calcolare poi la media del numero di monete raccolte per trial\n",
    "            boxOpenedValues_list = [] # creo una lista - che creo qui dentro perchè voglio che si crei per ogni trial e che non sia \"globale\" per tutti i trials insieme - dove metto le info del valore contenuto in ciascuna box che il soggetto apre nel trial corrente \n",
    "            visitedareas_count = 0\n",
    "            \n",
    "\n",
    "            if trial_code.startswith(\"trial_A\") or trial_code.startswith(\"trial_B\"):\n",
    "                trial_lungo = True\n",
    "            else:\n",
    "                trial_lungo = False\n",
    "\n",
    "            for event in events:\n",
    "                if event.get(\"trialEvent\").startswith(\"Opened Box\"):\n",
    "                    outcome = event[\"outcome\"][0]  # Accedi al primo elemento di \"outcome\"\n",
    "                    \n",
    "                    value_box_count += outcome[\"y\"]\n",
    "                \n",
    "                    opened_box_count += 1  #Incremento il conteggio se l'evento inizia con \"Opened Box\" così mi conta quante box ha preso il partecipante in quel trial\n",
    "\n",
    "                    boxOpenedValues_list.append(\n",
    "                        int (outcome[\"y\"]) #mettimelo a intero\n",
    "                    )\n",
    "\n",
    "\n",
    "            first_taken = False #inizializzo queste variabile booleana come false\n",
    "            second_taken = False\n",
    "            third_taken = False\n",
    "            fourth_taken = False\n",
    "            fifth_taken = False\n",
    "\n",
    "            FirstRoomEnteredandExit = False\n",
    "            enteredSecondArea = False\n",
    "\n",
    "            # firstRoomEntered = \"\"\n",
    "\n",
    "            # secondRoomEntered = \"\"\n",
    "\n",
    "            \n",
    "            for event in events:\n",
    "\n",
    "                if event.get(\"trialEvent\"). startswith('Entered Room ') and event.get(\"room\") == \"Center\":\n",
    "                    entered_time = event['timeInSeconds']\n",
    "\n",
    "\n",
    "                if event.get(\"trialEvent\").startswith(\"Opened Box\"):     \n",
    "                        firstareaopened_box_count += 1\n",
    "\n",
    "                        if first_taken == False: #al primo giro dentro il ciclo è sempre falsa perchè l'ho inizializzata così qualche riga sopra\n",
    "                            \n",
    "                            firstRoomEntered = event [\"room\"]\n",
    "                            firstbox_time =  event [\"timeInSeconds\"]\n",
    "                            firstbox_timetotake = firstbox_time - entered_time\n",
    "                            first_taken = True # se la riga sopra è vera, metti first_taken come true. Questo mi permette di fermarmi dopo che il soggetto ha preso il primo goal perchè metto la variabile a true e quindi la condizione first_taken == False non sarà più vera le volte successive\n",
    "                    \n",
    "                            if int (event[\"outcome\"][0][\"y\"]) == 8: # Accedi al primo elemento di \"outcome\" e trasformalo in intero (scrivo questa cosa dell'intero perchè so che mi legge 8 come 8.0 da prove precedenti)\n",
    "                                first_area_rich = True\n",
    "                            else:\n",
    "                                first_area_rich = False\n",
    "\n",
    "                        if first_taken == True and firstareaopened_box_count ==2: \n",
    "                            secondbox_time = event [\"timeInSeconds\"]\n",
    "                            secondbox_timetotake = secondbox_time - firstbox_time\n",
    "                            second_taken = True\n",
    "                        elif firstareaopened_box_count <=1:\n",
    "                            secondbox_timetotake =  np.nan\n",
    "\n",
    "                        if second_taken == True and firstareaopened_box_count == 3: \n",
    "                            thirdbox_time = event [\"timeInSeconds\"]\n",
    "                            thirdbox_timetotake = thirdbox_time - secondbox_time\n",
    "                            third_taken = True\n",
    "                        elif firstareaopened_box_count <=2:\n",
    "                            thirdbox_timetotake =  np.nan\n",
    "                                \n",
    "\n",
    "                        if third_taken == True and firstareaopened_box_count == 4: \n",
    "                            fourthbox_time = event [\"timeInSeconds\"]\n",
    "                            fourthbox_timetotake = fourthbox_time - thirdbox_time\n",
    "                            fourth_taken = True\n",
    "                        elif firstareaopened_box_count <=3:\n",
    "                            fourthbox_timetotake =  np.nan\n",
    "                                \n",
    "\n",
    "                        if fourth_taken == True and firstareaopened_box_count == 5: \n",
    "                            fifthbox_time = event [\"timeInSeconds\"]\n",
    "                            fifthbox_timetotake = fifthbox_time - fourthbox_time\n",
    "                            fifth_taken = True\n",
    "                        elif firstareaopened_box_count <= 4:\n",
    "                            fifthbox_timetotake = np.nan\n",
    "\n",
    "                \n",
    "\n",
    "                if event.get(\"trialEvent\") == \"Entered Room Center\" or event.get(\"trialEvent\") == \"Trial Completed\":\n",
    "                    exit_time = event [\"timeInSeconds\"]\n",
    "                    FirstRoomEnteredandExit = True\n",
    "                    break  # break \"uccide\" i cicli (if non è un ciclo!)\n",
    "\n",
    "\n",
    "              \n",
    "\n",
    "                \n",
    "            totalfirstareatime = exit_time - entered_time\n",
    "\n",
    "            \n",
    "            \n",
    "\n",
    "            if firstareaopened_box_count == 1:\n",
    "                lasttomargin_time = exit_time - firstbox_time\n",
    "            elif firstareaopened_box_count == 2:\n",
    "                lasttomargin_time = exit_time - secondbox_time\n",
    "            elif firstareaopened_box_count == 3:\n",
    "                lasttomargin_time = exit_time - thirdbox_time\n",
    "            elif firstareaopened_box_count == 4:\n",
    "                lasttomargin_time = exit_time - fourthbox_time\n",
    "            elif firstareaopened_box_count == 5:\n",
    "                lasttomargin_time = exit_time - fifthbox_time\n",
    "            \n",
    "\n",
    "            for event in events:\n",
    "                    \n",
    "                    if FirstRoomEnteredandExit == True and event.get(\"trialEvent\").startswith('Entered Room') and event.get(\"room\") == \"Center\" and event [\"timeInSeconds\"] > exit_time:\n",
    "                        enteredsecondarea_time = event [\"timeInSeconds\"]\n",
    "                        enteredSecondArea = True\n",
    "                    \n",
    "                    if event.get(\"trialEvent\").startswith(\"Opened Box #0\") and enteredSecondArea == True : \n",
    "                        firstboxsecondarea_time = event [\"timeInSeconds\"]\n",
    "                        break\n",
    "            \n",
    "            margintofirstsecondarea_time = firstboxsecondarea_time - enteredsecondarea_time\n",
    "                    \n",
    "            exitandtakefirstboxsecondarea_timetotake = lasttomargin_time + margintofirstsecondarea_time\n",
    "\n",
    "           \n",
    "            #####\n",
    "            if first_area_rich == True:\n",
    "                value_lastbox_firstarea = 8 - (firstareaopened_box_count - 1)\n",
    "            else:\n",
    "                value_lastbox_firstarea = 5 - (firstareaopened_box_count - 1)\n",
    "\n",
    "\n",
    "            # nella riga sotto metto una toppa al fatto che a volte il firstareaopened_box_count è = 0\n",
    "            # questo succede quando il sogg. entra nella prima stanza ma non prende nessuna cassa\n",
    "            # quando succede così mi faccio mettere NaN nella colonna corrispondente ma dovrei fare un controllo\n",
    "            # il controllo dovrebbe incrementare il valore di firstareaopened_box_count quando il sogg., dopo essere entrato nella prima stanza ma non aver preso nessuna cassa, rientra nella stessa area e prende casse\n",
    "\n",
    "            if firstareaopened_box_count == 0:\n",
    "                value_lastbox_firstarea = float('NaN')\n",
    "\n",
    "\n",
    "  \n",
    "\n",
    "            sensor_outcome = \"Non ha visto il sensore\"\n",
    "            sensor_opened_order = [] #se questo numero nell'excell è  = 1 allora ha visto il sensore e poi è entrato nelle aree, se è maggiore o non ha visto il sensore o lo ha visto dopo esser entrato in una o più aree\n",
    "            \n",
    "            # In alternativa a come sta fatto, si potrebbe anche fare così\n",
    "            # for i in range(len(events)):\n",
    "            #     event = events[i]\n",
    "            for i, event in enumerate(events): #i mi dice l'indice di event e enumerate mi fa ciclare sia su i che sugli events\n",
    "                if event.get(\"trialEvent\") == \"Used Sensor A\":\n",
    "                    outcome = event[\"outcome\"][0]  # Accedi al primo elemento di \"outcome\"\n",
    "                    sensor_outcome = outcome\n",
    "                    \n",
    "                    if outcome[2] == 0.8 : #questo \"2\" è l'indice di una lista, quindi qui dico che se il 3 valore è uguale a 0.8 allora...\n",
    "                        trial_ricco = True\n",
    "                    else:\n",
    "                        trial_ricco = False\n",
    "                    sensor_opened_order.append(i)\n",
    "    \n",
    "                   \n",
    "            mean_box_value = value_box_count / opened_box_count #media\n",
    "\n",
    "            #print(f\"{name} - Trial {trial_code} - {sensor_outcome} - Opened Box count: {opened_box_count} - Value Box count: {value_box_count} - Mean Box value: {mean_box_value} - {boxOpenedValues_list}\")\n",
    "\n",
    "\n",
    "\n",
    "            #ora voglio vedere in quante stanze per trial entra il soggetto\n",
    "\n",
    "            for event in events:\n",
    "                if event.get(\"trialEvent\") == \"Entered Room Center\" or event.get(\"trialEvent\") == \"Trial Completed\" :\n",
    "                #if event.get(\"trialEvent\").startswith(\"Entered Room\") and event.get(\"room\") == \"Center\":\n",
    "                #if event.get(\"trialEvent\").startswith(\"Entered Room\") and event.get(\"trialEvent\") != \"Entered Room Center\":\n",
    "                   visitedareas_count += 1\n",
    "                \n",
    "\n",
    "\n",
    "            \n",
    "            # Qui vado ad aggiungere i dati del trial corrente alla lista results inizializzata all'inizio\n",
    "            results.append({\n",
    "                #ogni riga dell'excell che mi andrò a creare avrà queste informzioni dove sulle colonne avrò i titoli contenuti qui sotto nelle \"\"\n",
    "                \"Subject\": name,\n",
    "                \"SubjectCode\": assigned_number,\n",
    "                \"TrialNumber\": trial_number,\n",
    "                \"Trial\": trial_code,\n",
    "                \"LongBattery\": trial_lungo,\n",
    "                \"RichEnvironment\": trial_ricco,\n",
    "                \"SensorOutcome\": sensor_outcome,\n",
    "                \"SensorEventIndex\": sensor_opened_order,\n",
    "                \"BoxOpenedPerTrial\": opened_box_count,\n",
    "                \"CoinsGainedPerTrial\": value_box_count,\n",
    "                \"CoinGainedPerBoxPerTrialMean\": mean_box_value,\n",
    "                \"BoxOpenedValues\": boxOpenedValues_list, #in questo modo mi mette nella colonna excell tutti i valori contenuti dentro outcome > 0 ma, visto che mi serve solo il valore contenuto in y, rimuovo gli altri direttamente su excell\n",
    "                \"BoxOpenedFirstArea\": firstareaopened_box_count,\n",
    "                \"ValueLastBoxOpenedFirstArea\": value_lastbox_firstarea,\n",
    "                \"FirstAreaRich\": first_area_rich,\n",
    "                \"FirstRoomEntered\": firstRoomEntered,\n",
    "                \"TimeInTheFirstRoom\": totalfirstareatime,\n",
    "                \"VisitedAreas\": visitedareas_count,\n",
    "                \"FirstBoxTimeToTake\": firstbox_timetotake, #tempo per prendere la prima cassa, i.e. tempo che ci mette a prendere la prima cassa da quando entra nella prima area\n",
    "                \"SecondBoxTimeToTake\": secondbox_timetotake, #tempo impiegato tra prima e seconda cassa nella prima area, i.e tempo che ci mette a prendere la seconda cassa dopo che ha preso la prima\n",
    "                \"ThirdBoxTimeToTake\": thirdbox_timetotake, \n",
    "                \"FourthBoxTimeToTake\": fourthbox_timetotake,\n",
    "                \"FifthBoxTimeToTake\": fifthbox_timetotake,\n",
    "                \"LastToMarginTime\": lasttomargin_time,\n",
    "                \"TimeToExitFirstAreaAndTakeABoxInTheSecond\": exitandtakefirstboxsecondarea_timetotake, #tempo tra l'ultima cassa presa nella prima area e l'uscita dalla prima area + tempo tra l'entrata nella seconda area e il tempo necessario per prendere poi la prima cassa nella seconda area\n",
    "            })  \n",
    "\n",
    "\n",
    "\n",
    "# Creo un df (dataframe) dove metto i results - uso pandas as pd qui!!\n",
    "df = pd.DataFrame(results)\n",
    "\n",
    "# Esporto il df in un file Excel\n",
    "excel_file = \"out/results.xlsx\"\n",
    "df.to_excel(excel_file, index=False)\n",
    "\n",
    "# Esporto il df in un file CSV (.csv)\n",
    "csv_file = \"out/results.csv\"\n",
    "df.to_csv(csv_file, index=False)\n",
    "\n",
    "print(f\"Dati esportati in {excel_file} e {csv_file}\")\n",
    "\n"
   ]
  },
  {
   "cell_type": "code",
   "execution_count": 22,
   "metadata": {},
   "outputs": [
    {
     "name": "stdout",
     "output_type": "stream",
     "text": [
      "['Mallog', 'Sofia', 'Daniele', 'Mic', 'Pietro', 'Kiara', 'Jack', 'Gaia', 'Federica', 'Gaiag', 'Ric', 'Eleos', 'Simo', 'Amox', 'Tereza', 'Chiara', 'Martina', 'Lullu', 'Marti', 'Ludo', 'Giorgia', 'Raul', 'Mattia', 'Christian', 'Lorenzo', 'Anna', 'Claudia', 'Elena', 'Ele', 'Riccardo', 'Mid', 'Romaraff', 'Ludovica']\n"
     ]
    }
   ],
   "source": [
    "print(names)"
   ]
  },
  {
   "cell_type": "code",
   "execution_count": null,
   "metadata": {},
   "outputs": [],
   "source": [
    "# a seguire codice per calcolare il tempo medio di durata dell'esperimento\n",
    "\n",
    "experimentLenght_results = [] #inzializzo la lista risultati fuori dal ciclo\n",
    "\n",
    "for idx in range(len(data)):\n",
    "    log = data[idx]\n",
    "    #age = log[\"user\"][\"age\"]\n",
    "    date = log[\"date\"]\n",
    "    \n",
    "\n",
    "    startingTime = date.split(\" \", 1) [-1] #splitta per spazio e mi tiene quello dopo lo spazio\n",
    "    trials = log.get(\"trials\", [])  # Se la chiave \"trials\" non è presente in log, viene assegnata una lista vuota [] come valore predefinito\n",
    "    \n",
    "    for trial in trials:\n",
    "       trial_number = trial.get (\"trialNumber\")\n",
    "       if trial_number == 46:\n",
    "         finishTime = trial.get (\"endTime\")\n",
    "           \n",
    "    #experimentTimeLenght = startingTime - endingTime\n",
    "\n",
    "    # Convert strings to timedeltas\n",
    "    startingTime_timedelta = pd.to_timedelta(startingTime)\n",
    "    finishTime_timedelta = pd.to_timedelta(finishTime)\n",
    "\n",
    "    # Calculate the difference in minutes\n",
    "    experimentTimeLenght = (finishTime_timedelta - startingTime_timedelta).total_seconds() / 60\n",
    "\n",
    "\n",
    "    experimentLenght_results.append(\n",
    "            {\n",
    "                #\"Age\": age,\n",
    "                \"StartingTime\": startingTime,\n",
    "                \"FinishTime\": finishTime,\n",
    "                \"ExperimentTimeLenght\": experimentTimeLenght,           \n",
    "            })\n",
    "\n",
    "\n",
    "experimentLenght_df = pd.DataFrame(experimentLenght_results)\n",
    "\n",
    "# Esporto il df in un file Excel\n",
    "excel_file = \"out/experimentLenght.xlsx\"\n",
    "experimentLenght_df.to_excel(excel_file, index=False)\n",
    "\n",
    "\n",
    "\n",
    "\n",
    "\n",
    "# per levarmi di torno la data e tenermi solo l'informazione dell'orario posso fare o con lstrip o con split. Ma nel mio caso devo usare split perchè la data cambia se i partecipanti fanno l'esperimento in giorni diversi\n",
    "#print(date.lstrip(\"23-10-24\")) #se quello che sta tra \"\" sta a left, levalo\n",
    "#print(date.split(\" \", 1) [-1]) # splitta per spazio e mi tiene quello dopo lo spazio\n",
    "\n",
    "\n"
   ]
  },
  {
   "cell_type": "code",
   "execution_count": null,
   "metadata": {},
   "outputs": [
    {
     "name": "stdout",
     "output_type": "stream",
     "text": [
      "Dati esportati in out/PROVA.xlsx e out/PROVA.csv\n"
     ]
    }
   ],
   "source": [
    "# a seguire provo ad integrare il codice con il check se i soggetti rientrano nella prima area\n",
    "\n",
    "import pandas as pd #mi serve per salvarmi poi i results in un file excell\n",
    "\n",
    "results = [] #inzializzo la lista risultati fuori dal ciclo\n",
    "\n",
    "nicknames = {}\n",
    "counter = 0\n",
    "\n",
    "for idx in range(len(data)):\n",
    "    log = data[idx]\n",
    "    name = log[\"user\"][\"nickname\"]  # Per estrarre il valore del nickname contenuto dentro user e assegnarlo alla variabile name\n",
    "    if name not in nicknames:\n",
    "        counter += 1\n",
    "        nicknames[name] = counter\n",
    "\n",
    "    assigned_number = nicknames[name]\n",
    "\n",
    "\n",
    "    trials = log.get(\"trials\", [])  # Se la chiave \"trials\" non è presente in log, viene assegnata una lista vuota [] come valore predefinito\n",
    "\n",
    "    for trial in trials:\n",
    "        trial_number = trial.get (\"trialNumber\")\n",
    "        trial_code = trial.get(\"trialCode\")\n",
    "        \n",
    "        # Aggiungi una condizione per scartare i trials che iniziano con \"tutorial\"\n",
    "        if trial_code is not None and not trial_code.startswith(\"tutorial\"): # se il trialCode inizia con \"tutorial\" non prenderlo! - così scarto già i tutorials dall'analisi\n",
    "            events = trial.get(\"events\", [])\n",
    "            opened_box_count = 0  # creo una variabile che inizializzo a zero per contare quante viene aperta una box nel trial corrente\n",
    "            firstareaopened_box_count = 0\n",
    "            value_box_count = 0 # creo una variabile che inizializzo a zero per contare quante monete vengono raccolte in totale nel trial corrente \n",
    "            mean_box_count = 0 # creo una variabile che inizializzo a zero per calcolare poi la media del numero di monete raccolte per trial\n",
    "            boxOpenedValues_list = [] # creo una lista - che creo qui dentro perchè voglio che si crei per ogni trial e che non sia \"globale\" per tutti i trials insieme - dove metto le info del valore contenuto in ciascuna box che il soggetto apre nel trial corrente \n",
    "            visitedareas_count = 0\n",
    "            \n",
    "            reenteredfirstareaopened_box_count = 0\n",
    "\n",
    "            if trial_code.startswith(\"trial_A\") or trial_code.startswith(\"trial_B\"):\n",
    "                trial_lungo = True\n",
    "            else:\n",
    "                trial_lungo = False\n",
    "\n",
    "            for event in events:\n",
    "                if event.get(\"trialEvent\").startswith(\"Opened Box\"):\n",
    "                    outcome = event[\"outcome\"][0]  # Accedi al primo elemento di \"outcome\"\n",
    "                    \n",
    "                    value_box_count += outcome[\"y\"]\n",
    "                \n",
    "                    opened_box_count += 1  #Incremento il conteggio se l'evento inizia con \"Opened Box\" così mi conta quante box ha preso il partecipante in quel trial\n",
    "\n",
    "                    boxOpenedValues_list.append(\n",
    "                        int (outcome[\"y\"]) #mettimelo a intero\n",
    "                    )\n",
    "\n",
    "\n",
    "            first_taken = False #inizializzo queste variabile booleana come false\n",
    "            second_taken = False\n",
    "            third_taken = False\n",
    "            fourth_taken = False\n",
    "            fifth_taken = False\n",
    "\n",
    "            FirstRoomEnteredandExit = False\n",
    "            enteredSecondArea = False\n",
    "\n",
    "            firstRoomEntered = \"\"\n",
    "\n",
    "            # secondRoomEntered = \"\"\n",
    "\n",
    "            reenteredthesamefirstarea = False\n",
    "\n",
    "            \n",
    "            for event in events:\n",
    "\n",
    "                if event.get(\"trialEvent\"). startswith('Entered Room ') and event.get(\"room\") == \"Center\":\n",
    "                    entered_time = event['timeInSeconds']\n",
    "\n",
    "\n",
    "                if event.get(\"trialEvent\").startswith(\"Opened Box\"):     \n",
    "                        firstareaopened_box_count += 1\n",
    "\n",
    "                        if first_taken == False: #al primo giro dentro il ciclo è sempre falsa perchè l'ho inizializzata così qualche riga sopra\n",
    "                            \n",
    "                            firstRoomEntered = event [\"room\"]\n",
    "                            firstbox_time =  event [\"timeInSeconds\"]\n",
    "                            firstbox_timetotake = firstbox_time - entered_time\n",
    "                            first_taken = True # se la riga sopra è vera, metti first_taken come true. Questo mi permette di fermarmi dopo che il soggetto ha preso il primo goal perchè metto la variabile a true e quindi la condizione first_taken == False non sarà più vera le volte successive\n",
    "                    \n",
    "                            if int (event[\"outcome\"][0][\"y\"]) == 8: # Accedi al primo elemento di \"outcome\" e trasformalo in intero (scrivo questa cosa dell'intero perchè so che mi legge 8 come 8.0 da prove precedenti)\n",
    "                                first_area_rich = True\n",
    "                            else:\n",
    "                                first_area_rich = False\n",
    "\n",
    "                        if first_taken == True and firstareaopened_box_count ==2: \n",
    "                            secondbox_time = event [\"timeInSeconds\"]\n",
    "                            secondbox_timetotake = secondbox_time - firstbox_time\n",
    "                            second_taken = True\n",
    "                        elif firstareaopened_box_count <=1:\n",
    "                            secondbox_timetotake =  np.nan\n",
    "\n",
    "                        if second_taken == True and firstareaopened_box_count == 3: \n",
    "                            thirdbox_time = event [\"timeInSeconds\"]\n",
    "                            thirdbox_timetotake = thirdbox_time - secondbox_time\n",
    "                            third_taken = True\n",
    "                        elif firstareaopened_box_count <=2:\n",
    "                            thirdbox_timetotake =  np.nan\n",
    "                                \n",
    "\n",
    "                        if third_taken == True and firstareaopened_box_count == 4: \n",
    "                            fourthbox_time = event [\"timeInSeconds\"]\n",
    "                            fourthbox_timetotake = fourthbox_time - thirdbox_time\n",
    "                            fourth_taken = True\n",
    "                        elif firstareaopened_box_count <=3:\n",
    "                            fourthbox_timetotake =  np.nan\n",
    "                                \n",
    "\n",
    "                        if fourth_taken == True and firstareaopened_box_count == 5: \n",
    "                            fifthbox_time = event [\"timeInSeconds\"]\n",
    "                            fifthbox_timetotake = fifthbox_time - fourthbox_time\n",
    "                            fifth_taken = True\n",
    "                        elif firstareaopened_box_count <= 4:\n",
    "                            fifthbox_timetotake = np.nan\n",
    "\n",
    "                \n",
    "\n",
    "                if event.get(\"trialEvent\") == \"Entered Room Center\" or event.get(\"trialEvent\") == \"Trial Completed\":\n",
    "                    exit_time = event [\"timeInSeconds\"]\n",
    "                    FirstRoomEnteredandExit = True\n",
    "                    if FirstRoomEnteredandExit == True and event.get(\"trialEvent\") == \"Entered Room Center\" and event.get(\"trialEvent\").endswith(firstRoomEntered):\n",
    "                        reenteredthesamefirstarea = True\n",
    "                        break\n",
    "                \n",
    "                totalfirstareatime = exit_time - entered_time\n",
    "        \n",
    "\n",
    "            if firstareaopened_box_count == 1:\n",
    "                lasttomargin_time = exit_time - firstbox_time\n",
    "            elif firstareaopened_box_count == 2:\n",
    "                lasttomargin_time = exit_time - secondbox_time\n",
    "            elif firstareaopened_box_count == 3:\n",
    "                lasttomargin_time = exit_time - thirdbox_time\n",
    "            elif firstareaopened_box_count == 4:\n",
    "                lasttomargin_time = exit_time - fourthbox_time\n",
    "            elif firstareaopened_box_count == 5:\n",
    "                lasttomargin_time = exit_time - fifthbox_time\n",
    "\n",
    "                    \n",
    "                        \n",
    "\n",
    "            for event in events:\n",
    "                    \n",
    "                    if FirstRoomEnteredandExit == True and event.get(\"trialEvent\").startswith('Entered Room') and event.get(\"room\") == \"Center\" and event [\"timeInSeconds\"] > exit_time:\n",
    "                        enteredsecondarea_time = event [\"timeInSeconds\"]\n",
    "                        enteredSecondArea = True\n",
    "                    \n",
    "                    if event.get(\"trialEvent\").startswith(\"Opened Box #0\") and enteredSecondArea == True : \n",
    "                        firstboxsecondarea_time = event [\"timeInSeconds\"]\n",
    "                        break\n",
    "            \n",
    "            margintofirstsecondarea_time = firstboxsecondarea_time - enteredsecondarea_time\n",
    "                    \n",
    "            exitandtakefirstboxsecondarea_timetotake = lasttomargin_time + margintofirstsecondarea_time\n",
    "\n",
    "           \n",
    "            #####\n",
    "            if first_area_rich == True:\n",
    "                value_lastbox_firstarea = 8 - (firstareaopened_box_count - 1)\n",
    "            else:\n",
    "                value_lastbox_firstarea = 5 - (firstareaopened_box_count - 1)\n",
    "\n",
    "\n",
    "            # nella riga sotto metto una toppa al fatto che a volte il firstareaopened_box_count è = 0\n",
    "            # questo succede quando il sogg. entra nella prima stanza ma non prende nessuna cassa\n",
    "            # quando succede così mi faccio mettere NaN nella colonna corrispondente ma dovrei fare un controllo\n",
    "            # il controllo dovrebbe incrementare il valore di firstareaopened_box_count quando il sogg., dopo essere entrato nella prima stanza ma non aver preso nessuna cassa, rientra nella stessa area e prende casse\n",
    "\n",
    "            if firstareaopened_box_count == 0:\n",
    "                value_lastbox_firstarea = float('NaN')\n",
    "\n",
    "\n",
    "  \n",
    "\n",
    "            sensor_outcome = \"Non ha visto il sensore\"\n",
    "            sensor_opened_order = [] #se questo numero nell'excell è  = 1 allora ha visto il sensore e poi è entrato nelle aree, se è maggiore o non ha visto il sensore o lo ha visto dopo esser entrato in una o più aree\n",
    "            \n",
    "            # In alternativa a come sta fatto, si potrebbe anche fare così\n",
    "            # for i in range(len(events)):\n",
    "            #     event = events[i]\n",
    "            for i, event in enumerate(events): #i mi dice l'indice di event e enumerate mi fa ciclare sia su i che sugli events\n",
    "                if event.get(\"trialEvent\") == \"Used Sensor A\":\n",
    "                    outcome = event[\"outcome\"][0]  # Accedi al primo elemento di \"outcome\"\n",
    "                    sensor_outcome = outcome\n",
    "                    \n",
    "                    if outcome[2] == 0.8 : #questo \"2\" è l'indice di una lista, quindi qui dico che se il 3 valore è uguale a 0.8 allora...\n",
    "                        trial_ricco = True\n",
    "                    else:\n",
    "                        trial_ricco = False\n",
    "                    sensor_opened_order.append(i)  \n",
    "                   \n",
    "            mean_box_value = value_box_count / opened_box_count #media\n",
    "\n",
    "            #print(f\"{name} - Trial {trial_code} - {sensor_outcome} - Opened Box count: {opened_box_count} - Value Box count: {value_box_count} - Mean Box value: {mean_box_value} - {boxOpenedValues_list}\")\n",
    "\n",
    "\n",
    "\n",
    "            #ora voglio vedere in quante stanze per trial entra il soggetto\n",
    "\n",
    "            for event in events:\n",
    "                if event.get(\"trialEvent\") == \"Entered Room Center\" or event.get(\"trialEvent\") == \"Trial Completed\" :\n",
    "                #if event.get(\"trialEvent\").startswith(\"Entered Room\") and event.get(\"room\") == \"Center\":\n",
    "                #if event.get(\"trialEvent\").startswith(\"Entered Room\") and event.get(\"trialEvent\") != \"Entered Room Center\":\n",
    "                   visitedareas_count += 1\n",
    "                \n",
    "\n",
    "\n",
    "            \n",
    "            # Qui vado ad aggiungere i dati del trial corrente alla lista results inizializzata all'inizio\n",
    "            results.append({\n",
    "                #ogni riga dell'excell che mi andrò a creare avrà queste informzioni dove sulle colonne avrò i titoli contenuti qui sotto nelle \"\"\n",
    "                \"Subject\": name,\n",
    "                \"SubjectCode\": assigned_number,\n",
    "                \"TrialNumber\": trial_number,\n",
    "                \"Trial\": trial_code,\n",
    "                \"LongBattery\": trial_lungo,\n",
    "                \"RichEnvironment\": trial_ricco,\n",
    "                \"SensorOutcome\": sensor_outcome,\n",
    "                \"SensorEventIndex\": sensor_opened_order,\n",
    "                \"BoxOpenedPerTrial\": opened_box_count,\n",
    "                \"CoinsGainedPerTrial\": value_box_count,\n",
    "                \"CoinGainedPerBoxPerTrialMean\": mean_box_value,\n",
    "                \"BoxOpenedValues\": boxOpenedValues_list, #in questo modo mi mette nella colonna excell tutti i valori contenuti dentro outcome > 0 ma, visto che mi serve solo il valore contenuto in y, rimuovo gli altri direttamente su excell\n",
    "                \"BoxOpenedFirstArea\": firstareaopened_box_count,\n",
    "                \"ValueLastBoxOpenedFirstArea\": value_lastbox_firstarea,\n",
    "                \"FirstAreaRich\": first_area_rich,\n",
    "                \"FirstRoomEntered\": firstRoomEntered,\n",
    "                \"TimeInTheFirstRoom\": totalfirstareatime,\n",
    "                \"VisitedAreas\": visitedareas_count,\n",
    "                \"FirstBoxTimeToTake\": firstbox_timetotake, #tempo per prendere la prima cassa, i.e. tempo che ci mette a prendere la prima cassa da quando entra nella prima area\n",
    "                \"SecondBoxTimeToTake\": secondbox_timetotake, #tempo impiegato tra prima e seconda cassa nella prima area, i.e tempo che ci mette a prendere la seconda cassa dopo che ha preso la prima\n",
    "                \"ThirdBoxTimeToTake\": thirdbox_timetotake, \n",
    "                \"FourthBoxTimeToTake\": fourthbox_timetotake,\n",
    "                \"FifthBoxTimeToTake\": fifthbox_timetotake,\n",
    "                \"LastToMarginTime\": lasttomargin_time,\n",
    "                \"TimeToExitFirstAreaAndTakeABoxInTheSecond\": exitandtakefirstboxsecondarea_timetotake, #tempo tra l'ultima cassa presa nella prima area e l'uscita dalla prima area + tempo tra l'entrata nella seconda area e il tempo necessario per prendere poi la prima cassa nella seconda area\n",
    "                \"Reenteredthefirstarea\": reenteredthesamefirstarea,\n",
    "            })  \n",
    "\n",
    "\n",
    "\n",
    "# Creo un df (dataframe) dove metto i results - uso pandas as pd qui!!\n",
    "df = pd.DataFrame(results)\n",
    "\n",
    "# Esporto il df in un file Excel\n",
    "excel_file = \"out/PROVA.xlsx\"\n",
    "df.to_excel(excel_file, index=False)\n",
    "\n",
    "# Esporto il df in un file CSV (.csv)\n",
    "csv_file = \"out/PROVA.csv\"\n",
    "df.to_csv(csv_file, index=False)\n",
    "\n",
    "print(f\"Dati esportati in {excel_file} e {csv_file}\")\n"
   ]
  }
 ],
 "metadata": {
  "kernelspec": {
   "display_name": "Python 3",
   "language": "python",
   "name": "python3"
  },
  "language_info": {
   "codemirror_mode": {
    "name": "ipython",
    "version": 3
   },
   "file_extension": ".py",
   "mimetype": "text/x-python",
   "name": "python",
   "nbconvert_exporter": "python",
   "pygments_lexer": "ipython3",
   "version": "3.10.11"
  },
  "orig_nbformat": 4,
  "vscode": {
   "interpreter": {
    "hash": "aee8b7b246df8f9039afb4144a1f6fd8d2ca17a180786b69acc140d282b71a49"
   }
  }
 },
 "nbformat": 4,
 "nbformat_minor": 2
}
