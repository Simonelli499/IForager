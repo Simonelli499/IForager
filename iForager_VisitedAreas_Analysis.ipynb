{
 "cells": [
  {
   "cell_type": "code",
   "execution_count": 1,
   "metadata": {},
   "outputs": [],
   "source": [
    "#in questo notebook faccio LMM e t-test (sia parametrico che non) per vedere l'impatto delle mie VI sulla VD = VisitedAreas (i.e., numero di aree visitate per trial)"
   ]
  },
  {
   "cell_type": "code",
   "execution_count": 1,
   "metadata": {},
   "outputs": [],
   "source": [
    "import json\n",
    "import os\n",
    "from collections import Counter\n",
    "import matplotlib.pyplot as plt\n",
    "import matplotlib.patches as mpatches\n",
    "import numpy as np\n",
    "import scipy.optimize as opt\n",
    "import pandas as pd\n",
    "import statsmodels.api as sm\n",
    "import statsmodels.formula.api as smf\n",
    "from copy import deepcopy"
   ]
  },
  {
   "cell_type": "code",
   "execution_count": 2,
   "metadata": {},
   "outputs": [],
   "source": [
    "import statsmodels.api as sm\n",
    "import statsmodels.formula.api as smf\n",
    "import pandas as pd"
   ]
  },
  {
   "cell_type": "code",
   "execution_count": 3,
   "metadata": {},
   "outputs": [],
   "source": [
    "data = pd.read_csv('out/results.csv')  # read data"
   ]
  },
  {
   "cell_type": "code",
   "execution_count": 4,
   "metadata": {},
   "outputs": [
    {
     "name": "stdout",
     "output_type": "stream",
     "text": [
      "          Mixed Linear Model Regression Results\n",
      "==========================================================\n",
      "Model:            MixedLM Dependent Variable: VisitedAreas\n",
      "No. Observations: 1240    Method:             REML        \n",
      "No. Groups:       31      Scale:              0.6660      \n",
      "Min. group size:  40      Log-Likelihood:     -1614.3721  \n",
      "Max. group size:  40      Converged:          Yes         \n",
      "Mean group size:  40.0                                    \n",
      "----------------------------------------------------------\n",
      "                Coef.  Std.Err.   z    P>|z| [0.025 0.975]\n",
      "----------------------------------------------------------\n",
      "LongBattery      1.211    0.046 26.101 0.000  1.120  1.302\n",
      "RichEnvironment  0.035    0.055  0.628 0.530 -0.074  0.143\n",
      "FirstAreaRich   -0.261    0.066 -3.985 0.000 -0.390 -0.133\n",
      "Group Var       12.220    3.878                           \n",
      "==========================================================\n",
      "\n",
      "                         Mixed Linear Model Regression Results\n",
      "========================================================================================\n",
      "Model:                      MixedLM           Dependent Variable:           VisitedAreas\n",
      "No. Observations:           1240              Method:                       REML        \n",
      "No. Groups:                 31                Scale:                        0.6637      \n",
      "Min. group size:            40                Log-Likelihood:               -1568.6001  \n",
      "Max. group size:            40                Converged:                    Yes         \n",
      "Mean group size:            40.0                                                        \n",
      "----------------------------------------------------------------------------------------\n",
      "                                              Coef.  Std.Err.   z    P>|z| [0.025 0.975]\n",
      "----------------------------------------------------------------------------------------\n",
      "Intercept                                      3.354    0.159 21.039 0.000  3.041  3.666\n",
      "LongBattery[T.True]                            1.362    0.096 14.187 0.000  1.174  1.550\n",
      "FirstAreaRich[T.True]                         -0.244    0.093 -2.622 0.009 -0.426 -0.062\n",
      "RichEnvironment[T.True]                       -0.427    0.494 -0.864 0.387 -1.394  0.541\n",
      "LongBattery[T.True]:FirstAreaRich[T.True]     -0.104    0.131 -0.793 0.428 -0.361  0.153\n",
      "LongBattery[T.True]:RichEnvironment[T.True]   -0.156    0.111 -1.409 0.159 -0.374  0.061\n",
      "RichEnvironment[T.True]:FirstAreaRich[T.True]  0.548    0.488  1.124 0.261 -0.407  1.504\n",
      "Group Var                                      0.650    0.214                           \n",
      "========================================================================================\n",
      "\n"
     ]
    }
   ],
   "source": [
    "import statsmodels\n",
    "endog = data[\"VisitedAreas\"] # variabile dipendente - VisitedAreas si riferisce al numero di aree visitate dal soggetto in quel trial\n",
    "exog = data[[\"LongBattery\",\"RichEnvironment\",\"FirstAreaRich\"]] # variabili indipendenti\n",
    "\n",
    "\n",
    "groups = data['Subject'] # nel modello lineare misto devo mettere il gruppo\n",
    "model = statsmodels.regression.mixed_linear_model.MixedLM(endog, exog, groups)\n",
    "result = model.fit()\n",
    "print(result.summary())\n",
    "\n",
    "formula = \"VisitedAreas ~  LongBattery * FirstAreaRich + LongBattery * RichEnvironment + RichEnvironment * FirstAreaRich\" \n",
    "\n",
    "\n",
    "model = smf.mixedlm(formula, data=data, groups = data['Subject'])\n",
    "\n",
    "result = model.fit()\n",
    "print(result.summary())"
   ]
  },
  {
   "cell_type": "code",
   "execution_count": 6,
   "metadata": {},
   "outputs": [],
   "source": [
    "condizione_7 = (data[\"LongBattery\"] == True) & (data[\"RichEnvironment\"] == True) & (data[\"FirstAreaRich\"] == True)\n",
    "data7 = data [condizione_7]\n",
    "\n",
    "condizione_8 = (data[\"LongBattery\"] == True) & (data[\"RichEnvironment\"] == False) & (data[\"FirstAreaRich\"] == True)\n",
    "data8 = data [condizione_8]\n",
    "\n",
    "condizione_9 = (data[\"LongBattery\"] == False) & (data[\"RichEnvironment\"] == True) & (data[\"FirstAreaRich\"] == True)\n",
    "data9 = data [condizione_9]\n",
    "\n",
    "condizione_10 = (data[\"LongBattery\"] == False) & (data[\"RichEnvironment\"] == False) & (data[\"FirstAreaRich\"] == True)\n",
    "data10 = data [condizione_10]\n",
    "\n",
    "\n",
    "\n",
    "visited_areas_1 = data7[\"VisitedAreas\"] # dentro data 7 prendi solo la colonna \"BoxOpenedFirstArea\"\n",
    "visited_areas_1 = visited_areas_1.to_numpy() #toglie gli indici e mi scrive solo i valori dei BoxOpenedFirstArea\n",
    "\n",
    "visited_areas_2 = data8[\"VisitedAreas\"] # dentro data 8 prendi solo la colonna \"BoxOpenedFirstArea\"\n",
    "visited_areas_2 = visited_areas_2.to_numpy() #toglie gli indici e mi scrive solo i valori dei BoxOpenedFirstArea\n",
    "\n",
    "visited_areas_3 = data9[\"VisitedAreas\"] # dentro data 9 prendi solo la colonna \"BoxOpenedFirstArea\"\n",
    "visited_areas_3 = visited_areas_3.to_numpy() #toglie gli indici e mi scrive solo i valori dei BoxOpenedFirstArea\n",
    "\n",
    "visited_areas_4 = data10[\"VisitedAreas\"] # dentro data 10 prendi solo la colonna \"BoxOpenedFirstArea\"\n",
    "visited_areas_4 = visited_areas_4.to_numpy() #toglie gli indici e mi scrive solo i valori dei BoxOpenedFirstArea"
   ]
  },
  {
   "cell_type": "code",
   "execution_count": 7,
   "metadata": {},
   "outputs": [
    {
     "data": {
      "text/plain": [
       "(array([ 0.,  9., 43., 46., 60.]),\n",
       " array([0., 1., 2., 3., 4., 5.]),\n",
       " <BarContainer object of 5 artists>)"
      ]
     },
     "execution_count": 7,
     "metadata": {},
     "output_type": "execute_result"
    },
    {
     "data": {
      "image/png": "[encoded data removed]",
      "text/plain": [
       "<Figure size 640x480 with 1 Axes>"
      ]
     },
     "metadata": {},
     "output_type": "display_data"
    },
    {
     "data": {
      "image/png": "[encoded data removed]",
      "text/plain": [
       "<Figure size 640x480 with 1 Axes>"
      ]
     },
     "metadata": {},
     "output_type": "display_data"
    },
    {
     "data": {
      "image/png": "[encoded data removed]",
      "text/plain": [
       "<Figure size 640x480 with 1 Axes>"
      ]
     },
     "metadata": {},
     "output_type": "display_data"
    },
    {
     "data": {
      "image/png": "[encoded data removed]",
      "text/plain": [
       "<Figure size 640x480 with 1 Axes>"
      ]
     },
     "metadata": {},
     "output_type": "display_data"
    }
   ],
   "source": [
    "\n",
    "plt.figure()\n",
    "plt.hist(visited_areas_1,np.arange(6))\n",
    "\n",
    "plt.figure()\n",
    "plt.hist(visited_areas_2,np.arange(6))\n",
    "\n",
    "plt.figure()\n",
    "plt.hist(visited_areas_3,np.arange(6))\n",
    "\n",
    "plt.figure()\n",
    "plt.hist(visited_areas_4,np.arange(6))"
   ]
  },
  {
   "cell_type": "code",
   "execution_count": 8,
   "metadata": {},
   "outputs": [
    {
     "name": "stdout",
     "output_type": "stream",
     "text": [
      "t-test a campioni indipendenti sulle condizioni con la batteria lunga: -0.06752942655575446 0.9461886516561384\n",
      "Nessuna differenza significativa\n",
      "t-test a campioni indipendenti sulle condizioni con la batteria corta: 1.2640983034417872 0.20682397365396085\n",
      "Nessuna differenza significativa\n"
     ]
    }
   ],
   "source": [
    "# a seguire faccio il t-test\n",
    "\n",
    "import scipy.stats as stats\n",
    "\n",
    "# t-test delle condizioni in cui la batteria è lunga\n",
    "t_stat, p_value = stats.ttest_ind(visited_areas_1, visited_areas_2)\n",
    "print(\"t-test a campioni indipendenti sulle condizioni con la batteria lunga:\", t_stat, p_value)\n",
    "\n",
    "alpha = 0.05\n",
    "if p_value < alpha:\n",
    "    print(\"Differenza significativa\")\n",
    "else:\n",
    "    print(\"Nessuna differenza significativa\")\n",
    "\n",
    "\n",
    "\n",
    "# t-test delle condizioni in cui la batteria è corta\n",
    "t_stat, p_value = stats.ttest_ind(visited_areas_3, visited_areas_4)\n",
    "print(\"t-test a campioni indipendenti sulle condizioni con la batteria corta:\", t_stat, p_value)\n",
    "\n",
    "alpha = 0.05\n",
    "if p_value < alpha:\n",
    "    print(\"Differenza significativa\")\n",
    "else:\n",
    "    print(\"Nessuna differenza significativa\")"
   ]
  },
  {
   "cell_type": "code",
   "execution_count": 9,
   "metadata": {},
   "outputs": [
    {
     "name": "stdout",
     "output_type": "stream",
     "text": [
      "t-test non parametrico (Wilconxon-Mann-Whitney) sulle condizioni con la batteria lunga: 25898.0 0.7329948700404562\n",
      "Nessuna differenza significativa\n",
      "t-test non parametrico (Wilconxon-Mann-Whitney) sulle condizioni con la batteria corta: 26320.5 0.2804545748082813\n",
      "Nessuna differenza significativa\n"
     ]
    }
   ],
   "source": [
    "import scipy.stats as stats\n",
    "\n",
    "\n",
    "statistic, p_value = stats.mannwhitneyu(visited_areas_1, visited_areas_2)\n",
    "print(\"t-test non parametrico (Wilconxon-Mann-Whitney) sulle condizioni con la batteria lunga:\", statistic, p_value)\n",
    "\n",
    "alpha = 0.05\n",
    "if p_value < alpha:\n",
    "    print(\"Differenza significativa\")\n",
    "else:\n",
    "    print(\"Nessuna differenza significativa\")\n",
    "\n",
    "\n",
    "\n",
    "statistic, p_value = stats.mannwhitneyu(visited_areas_3, visited_areas_4)\n",
    "print(\"t-test non parametrico (Wilconxon-Mann-Whitney) sulle condizioni con la batteria corta:\", statistic, p_value)\n",
    "\n",
    "alpha = 0.05\n",
    "if p_value < alpha:\n",
    "    print(\"Differenza significativa\")\n",
    "else:\n",
    "    print(\"Nessuna differenza significativa\")"
   ]
  },
  {
   "cell_type": "code",
   "execution_count": 10,
   "metadata": {},
   "outputs": [
    {
     "name": "stdout",
     "output_type": "stream",
     "text": [
      "Results saved to 'VisitedAreas_mannwhitneyresultss.csv'.\n"
     ]
    }
   ],
   "source": [
    "\n",
    "# Perform Mann-Whitney U test and store results\n",
    "results = []\n",
    "statistic, p_value = stats.mannwhitneyu(visited_areas_1, visited_areas_2)\n",
    "results.append([\"Long battery conditions\", statistic, p_value, \"Significant difference\" if p_value < 0.05 else \"Non significant difference\"])\n",
    "\n",
    "statistic, p_value = stats.mannwhitneyu(visited_areas_3, visited_areas_4)\n",
    "results.append([\"Short battery conditions\", statistic, p_value,\"Significant difference\" if p_value < 0.05 else \"Non significant difference\"])\n",
    "\n",
    "# Create a DataFrame to store the results\n",
    "columns = [\"Test\", \"Statistic\", \"P-Value\", \"Significance\"]\n",
    "results_df = pd.DataFrame(results, columns=columns)\n",
    "\n",
    "# Save the results to a CSV file\n",
    "results_df.to_csv('VisitedAreas_mannwhitneyresultss.csv', index=False)\n",
    "\n",
    "print(\"Results saved to 'VisitedAreas_mannwhitneyresultss.csv'.\")"
   ]
  }
 ],
 "metadata": {
  "kernelspec": {
   "display_name": "Python 3",
   "language": "python",
   "name": "python3"
  },
  "language_info": {
   "codemirror_mode": {
    "name": "ipython",
    "version": 3
   },
   "file_extension": ".py",
   "mimetype": "text/x-python",
   "name": "python",
   "nbconvert_exporter": "python",
   "pygments_lexer": "ipython3",
   "version": "3.10.11 (v3.10.11:7d4cc5aa85, Apr  4 2023, 19:05:19) [Clang 13.0.0 (clang-1300.0.29.30)]"
  },
  "orig_nbformat": 4,
  "vscode": {
   "interpreter": {
    "hash": "aee8b7b246df8f9039afb4144a1f6fd8d2ca17a180786b69acc140d282b71a49"
   }
  }
 },
 "nbformat": 4,
 "nbformat_minor": 2
}
