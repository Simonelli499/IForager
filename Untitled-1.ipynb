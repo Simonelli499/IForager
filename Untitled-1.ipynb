{
 "cells": [
  {
   "cell_type": "code",
   "execution_count": 68,
   "metadata": {},
   "outputs": [],
   "source": [
    "import json\n",
    "import os\n",
    "from collections import Counter\n",
    "import matplotlib.pyplot as plt\n",
    "import matplotlib.patches as mpatches\n",
    "import numpy as np\n",
    "import scipy.optimize as opt\n",
    "import pandas as pd\n",
    "import statsmodels.api as sm\n",
    "import statsmodels.formula.api as smf\n",
    "from copy import deepcopy"
   ]
  },
  {
   "cell_type": "code",
   "execution_count": 69,
   "metadata": {},
   "outputs": [],
   "source": [
    "json_files = [pos_json for pos_json in os.listdir(\"Logs\") if pos_json.endswith('.json')]\n",
    "data = []\n",
    "for index, js in enumerate(json_files):\n",
    "    with open(os.path.join('./Logs/', js)) as json_file:\n",
    "        json_text = json.load(json_file)\n",
    "        data.append(json_text)"
   ]
  },
  {
   "cell_type": "code",
   "execution_count": 70,
   "metadata": {},
   "outputs": [],
   "source": [
    "names = []\n",
    "for idx in range(len(data)):\n",
    "    log = data[idx]\n",
    "    names.append(log[\"user\"][\"nickname\"])\n",
    "    \n",
    "new_order = [names.index(name) for name in sorted(names)]\n",
    "\n",
    "new_data = []\n",
    "for idx in new_order:\n",
    "    new_data.append(data[idx])\n",
    "data = deepcopy(new_data)"
   ]
  },
  {
   "cell_type": "code",
   "execution_count": 71,
   "metadata": {},
   "outputs": [],
   "source": [
    "colors = {\"North\": \"b\", \"South\": \"r\", \"East\": \"y\", \"West\": \"g\"}"
   ]
  },
  {
   "cell_type": "code",
   "execution_count": 72,
   "metadata": {},
   "outputs": [],
   "source": [
    "def count_box_opened(trial_events):\n",
    "    hist = []\n",
    "    for event in trial_events:\n",
    "        if event[\"trialEvent\"].startswith(\"Opened\"):\n",
    "            hist.append(event[\"room\"])\n",
    "\n",
    "    count = Counter({\"North\": 0, \"South\": 0, \"East\": 0, \"West\": 0})\n",
    "    count.update(hist)\n",
    "    return hist, count\n",
    "\n",
    "def count_box_opened_over_trials(trials):\n",
    "    counts = {room: [] for room in [\"North\", \"South\", \"East\", \"West\"]}\n",
    "    hists = []\n",
    "    for trial in trials:\n",
    "        hist, count = count_box_opened(trial[\"events\"])\n",
    "        for room in [\"North\", \"South\", \"East\", \"West\"]:\n",
    "            counts[room].append(count[room])\n",
    "        hists.append(hist)\n",
    "    return counts, hists\n",
    "\n",
    "\n",
    "\n"
   ]
  },
  {
   "cell_type": "code",
   "execution_count": 73,
   "metadata": {},
   "outputs": [],
   "source": [
    "# import random\n",
    "\n",
    "\n",
    "# for idx in range(len(data)):\n",
    "#     log = data[idx]\n",
    "#     name = log[\"user\"][\"nickname\"]\n",
    " \n",
    "#     counts, _ = count_box_opened_over_trials(log[\"trials\"])\n",
    "#     plt.figure(figsize=(5, 5))\n",
    "#     plt.suptitle (\"Subject \" + name)\n",
    "#     for x,(roomName,count) in enumerate(counts.items()):\n",
    "#         plt.subplot(4, 1, x+1)\n",
    "#         plt.plot(np.arange(46), count, \".\", color=colors[roomName], alpha=.5)\n",
    "#         plt.plot(np.arange(46), count, color=\"k\", alpha=.2)\n",
    "        \n",
    "#         plt.title(roomName, color=colors[roomName], fontweight=\"bold\")\n",
    "#         plt.ylim([-0.5, 7.5])\n",
    "#         plt.yticks([0, 1, 2, 3, 4, 5])\n",
    "#         plt.xlim([0, 46])\n",
    "#         plt.xticks([])\n",
    "        \n",
    "#         for x in range(0, 2):\n",
    "#             plt.axvline(4.5 + x * 20, color=\"k\", alpha=0.5)\n",
    "#             plt.axvline(25.5,color=\"k\", alpha=0.5) # ho aggiunto questa linea per dividere il trial di prova che separa i due blocchi\n",
    "#             plt.text(4.5+x*20+8, 6, \"Blocco 1\" if x%2==0 else \"Blocco 2\") \n",
    "\n",
    "\n",
    "#     plt.tight_layout()\n",
    "#     plt.savefig(\"out/Subject\" + name + \"_hist.png\", dpi=300)\n",
    "#     plt.clf()\n",
    "\n",
    "# modifica effettuata: dove ora c'è 46 (numero totale di trials), prima c'era 64\n",
    "# modifica: dove ora c'è 20 prima c'era 10. Questo perchè io ho due blocchi da 20 trials ciascuno (infatti ho cambiato anche for x in range(0, 2): dove prima era for x in range(0, 6):)\n",
    "# dove ora c'è 4.5 prima c'era 3.5. Io ho 5 trials di prova e non 4"
   ]
  },
  {
   "cell_type": "code",
   "execution_count": 74,
   "metadata": {},
   "outputs": [
    {
     "data": {
      "text/plain": [
       "[('East', False),\n",
       " ('East', False),\n",
       " ('East', False),\n",
       " ('East', False),\n",
       " ('North', True),\n",
       " ('North', False),\n",
       " ('North', False),\n",
       " ('North', False),\n",
       " ('South', True),\n",
       " ('South', False),\n",
       " ('South', False),\n",
       " ('South', False),\n",
       " ('West', True),\n",
       " ('West', False),\n",
       " ('North', True),\n",
       " ('South', True),\n",
       " ('South', False),\n",
       " ('West', True),\n",
       " ('West', False),\n",
       " ('East', True),\n",
       " ('East', False),\n",
       " ('West', False),\n",
       " ('West', False),\n",
       " ('North', True),\n",
       " ('North', False),\n",
       " ('East', True),\n",
       " ('East', True),\n",
       " ('East', False),\n",
       " ('South', True),\n",
       " ('South', False),\n",
       " ('South', False),\n",
       " ('North', True),\n",
       " ('South', True),\n",
       " ('South', False),\n",
       " ('South', False),\n",
       " ('West', True),\n",
       " ('West', False),\n",
       " ('West', False),\n",
       " ('West', False),\n",
       " ('North', False),\n",
       " ('North', False),\n",
       " ('East', True),\n",
       " ('East', False),\n",
       " ('East', False),\n",
       " ('South', True),\n",
       " ('South', False),\n",
       " ('South', False),\n",
       " ('South', True),\n",
       " ('South', False),\n",
       " ('South', False),\n",
       " ('North', False),\n",
       " ('North', False),\n",
       " ('West', True),\n",
       " ('West', False),\n",
       " ('East', True),\n",
       " ('East', False),\n",
       " ('East', False),\n",
       " ('North', True),\n",
       " ('North', False),\n",
       " ('South', True),\n",
       " ('South', False),\n",
       " ('South', False),\n",
       " ('East', False),\n",
       " ('South', False),\n",
       " ('East', True),\n",
       " ('East', False),\n",
       " ('East', False),\n",
       " ('West', False),\n",
       " ('North', True),\n",
       " ('East', True),\n",
       " ('East', False),\n",
       " ('South', True),\n",
       " ('West', True),\n",
       " ('East', True),\n",
       " ('East', False),\n",
       " ('South', True),\n",
       " ('North', True),\n",
       " ('North', False),\n",
       " ('West', True),\n",
       " ('West', False),\n",
       " ('North', False),\n",
       " ('North', False),\n",
       " ('East', True),\n",
       " ('East', False),\n",
       " ('East', True),\n",
       " ('East', False),\n",
       " ('East', False),\n",
       " ('North', True),\n",
       " ('North', False),\n",
       " ('North', False),\n",
       " ('West', True),\n",
       " ('West', False),\n",
       " ('East', True),\n",
       " ('North', True),\n",
       " ('North', False),\n",
       " ('West', True),\n",
       " ('West', False),\n",
       " ('South', False),\n",
       " ('West', False),\n",
       " ('North', True),\n",
       " ('North', False),\n",
       " ('North', True),\n",
       " ('North', False),\n",
       " ('East', True),\n",
       " ('East', False),\n",
       " ('East', False),\n",
       " ('South', True),\n",
       " ('North', True),\n",
       " ('East', True),\n",
       " ('East', False),\n",
       " ('West', False),\n",
       " ('West', False),\n",
       " ('South', False),\n",
       " ('South', False),\n",
       " ('East', True),\n",
       " ('East', False),\n",
       " ('North', True),\n",
       " ('East', True),\n",
       " ('North', True),\n",
       " ('West', True),\n",
       " ('West', False),\n",
       " ('West', False),\n",
       " ('North', True),\n",
       " ('North', False),\n",
       " ('North', False),\n",
       " ('West', True),\n",
       " ('West', False),\n",
       " ('West', False),\n",
       " ('South', False),\n",
       " ('East', False),\n",
       " ('East', False),\n",
       " ('North', True),\n",
       " ('North', False),\n",
       " ('North', False),\n",
       " ('West', True),\n",
       " ('North', True),\n",
       " ('North', False),\n",
       " ('East', True),\n",
       " ('East', False),\n",
       " ('West', True),\n",
       " ('West', False),\n",
       " ('North', False),\n",
       " ('North', False),\n",
       " ('West', False),\n",
       " ('West', False),\n",
       " ('West', False),\n",
       " ('South', False),\n",
       " ('South', False),\n",
       " ('South', False),\n",
       " ('South', False),\n",
       " ('East', False),\n",
       " ('East', False),\n",
       " ('East', False),\n",
       " ('North', True),\n",
       " ('North', False),\n",
       " ('North', False),\n",
       " ('East', True),\n",
       " ('East', False),\n",
       " ('East', False),\n",
       " ('South', True),\n",
       " ('South', False),\n",
       " ('West', True),\n",
       " ('West', False),\n",
       " ('West', False),\n",
       " ('North', True),\n",
       " ('North', False),\n",
       " ('North', False),\n",
       " ('East', True),\n",
       " ('East', False),\n",
       " ('East', False),\n",
       " ('East', False),\n",
       " ('West', False),\n",
       " ('West', False),\n",
       " ('South', False),\n",
       " ('South', False),\n",
       " ('North', True),\n",
       " ('North', False),\n",
       " ('East', True),\n",
       " ('East', False),\n",
       " ('East', False),\n",
       " ('East', False),\n",
       " ('South', True),\n",
       " ('South', False),\n",
       " ('South', False),\n",
       " ('West', True),\n",
       " ('East', True),\n",
       " ('East', False),\n",
       " ('East', False),\n",
       " ('North', False),\n",
       " ('West', True),\n",
       " ('West', False),\n",
       " ('West', False),\n",
       " ('West', False),\n",
       " ('South', False),\n",
       " ('South', False),\n",
       " ('North', True),\n",
       " ('North', False),\n",
       " ('East', True),\n",
       " ('East', False),\n",
       " ('East', False),\n",
       " ('East', False),\n",
       " ('South', True),\n",
       " ('South', False),\n",
       " ('West', True),\n",
       " ('West', False),\n",
       " ('North', True),\n",
       " ('North', False),\n",
       " ('North', False),\n",
       " ('North', False),\n",
       " ('East', True),\n",
       " ('East', False),\n",
       " ('South', True),\n",
       " ('South', False),\n",
       " ('West', True),\n",
       " ('East', False),\n",
       " ('East', False),\n",
       " ('South', True),\n",
       " ('South', False),\n",
       " ('South', False),\n",
       " ('South', False),\n",
       " ('West', True),\n",
       " ('West', False),\n",
       " ('West', False),\n",
       " ('West', False),\n",
       " ('North', False),\n",
       " ('North', False),\n",
       " ('North', False),\n",
       " ('North', False),\n",
       " ('North', True),\n",
       " ('North', False),\n",
       " ('North', False),\n",
       " ('East', True),\n",
       " ('East', False),\n",
       " ('East', False),\n",
       " ('West', True),\n",
       " ('West', False),\n",
       " ('West', False),\n",
       " ('South', True),\n",
       " ('South', False),\n",
       " ('South', False),\n",
       " ('South', False),\n",
       " ('South', False),\n",
       " ('North', False),\n",
       " ('East', False),\n",
       " ('East', False),\n",
       " ('West', True),\n",
       " ('West', False),\n",
       " ('West', False),\n",
       " ('South', True),\n",
       " ('South', False),\n",
       " ('South', False),\n",
       " ('South', False),\n",
       " ('South', False),\n",
       " ('North', True),\n",
       " ('North', False),\n",
       " ('North', False),\n",
       " ('North', False),\n",
       " ('North', False),\n",
       " ('East', True),\n",
       " ('East', False),\n",
       " ('South', True),\n",
       " ('South', False),\n",
       " ('South', False),\n",
       " ('West', True),\n",
       " ('West', False),\n",
       " ('North', False),\n",
       " ('East', True),\n",
       " ('East', False),\n",
       " ('East', False),\n",
       " ('South', True),\n",
       " ('South', False),\n",
       " ('South', False),\n",
       " ('South', False),\n",
       " ('South', False),\n",
       " ('West', False),\n",
       " ('West', False),\n",
       " ('West', False),\n",
       " ('West', False),\n",
       " ('North', False),\n",
       " ('North', True),\n",
       " ('North', False),\n",
       " ('North', False),\n",
       " ('North', False),\n",
       " ('South', False),\n",
       " ('South', False),\n",
       " ('East', True),\n",
       " ('East', False),\n",
       " ('East', False),\n",
       " ('West', False),\n",
       " ('West', False),\n",
       " ('West', False),\n",
       " ('East', False),\n",
       " ('North', True),\n",
       " ('North', False),\n",
       " ('North', False),\n",
       " ('North', False),\n",
       " ('East', False),\n",
       " ('East', False),\n",
       " ('East', False),\n",
       " ('East', False),\n",
       " ('South', False),\n",
       " ('South', False),\n",
       " ('West', True),\n",
       " ('West', False),\n",
       " ('West', False),\n",
       " ('West', False),\n",
       " ('North', True),\n",
       " ('North', False),\n",
       " ('North', False),\n",
       " ('East', True),\n",
       " ('East', False),\n",
       " ('East', False),\n",
       " ('South', True),\n",
       " ('South', False),\n",
       " ('South', False),\n",
       " ('South', False),\n",
       " ('West', True),\n",
       " ('West', False),\n",
       " ('West', False),\n",
       " ('West', False),\n",
       " ('North', True),\n",
       " ('North', False),\n",
       " ('North', False),\n",
       " ('East', True),\n",
       " ('East', False),\n",
       " ('East', False),\n",
       " ('West', False),\n",
       " ('West', False),\n",
       " ('South', False),\n",
       " ('South', False),\n",
       " ('South', False),\n",
       " ('North', True),\n",
       " ('North', False),\n",
       " ('North', False),\n",
       " ('North', False),\n",
       " ('East', True),\n",
       " ('East', False),\n",
       " ('East', False),\n",
       " ('South', True),\n",
       " ('South', False),\n",
       " ('South', False),\n",
       " ('West', True),\n",
       " ('West', False),\n",
       " ('West', False),\n",
       " ('North', True),\n",
       " ('North', False),\n",
       " ('North', False),\n",
       " ('North', False),\n",
       " ('East', False),\n",
       " ('East', False),\n",
       " ('South', False),\n",
       " ('South', False),\n",
       " ('West', True),\n",
       " ('West', False),\n",
       " ('West', False),\n",
       " ('North', True),\n",
       " ('North', False),\n",
       " ('North', False),\n",
       " ('East', True),\n",
       " ('East', False),\n",
       " ('East', False),\n",
       " ('East', False),\n",
       " ('South', True),\n",
       " ('South', False),\n",
       " ('South', False),\n",
       " ('West', True),\n",
       " ('West', False),\n",
       " ('North', False),\n",
       " ('East', False),\n",
       " ('East', False),\n",
       " ('South', True),\n",
       " ('South', False),\n",
       " ('South', False),\n",
       " ('South', False),\n",
       " ('South', False),\n",
       " ('West', True),\n",
       " ('West', False),\n",
       " ('West', False),\n",
       " ('West', False),\n",
       " ('West', False),\n",
       " ('North', False),\n",
       " ('North', True),\n",
       " ('North', False),\n",
       " ('North', False),\n",
       " ('North', False),\n",
       " ('East', True),\n",
       " ('East', False),\n",
       " ('East', False),\n",
       " ('South', True),\n",
       " ('South', False),\n",
       " ('South', False),\n",
       " ('West', True),\n",
       " ('West', False),\n",
       " ('West', False),\n",
       " ('West', False)]"
      ]
     },
     "execution_count": 74,
     "metadata": {},
     "output_type": "execute_result"
    }
   ],
   "source": [
    "def check_first_area_rich(event):\n",
    "    room = event[\"room\"]\n",
    "    outcome_y = int(event[\"outcome\"][0][\"y\"])\n",
    "    return room, outcome_y == 8\n",
    "\n",
    "def count_box_opened(trial_events):\n",
    "    hist = []\n",
    "    for event in trial_events:\n",
    "        if event[\"trialEvent\"].startswith(\"Opened\"):\n",
    "            hist.append(event[\"room\"])\n",
    "\n",
    "    count = Counter({\"North\": 0, \"South\": 0, \"East\": 0, \"West\": 0})\n",
    "    count.update(hist)\n",
    "    return hist, count\n",
    "\n",
    "def count_box_opened_over_trials(trials):\n",
    "    counts = {room: [] for room in [\"North\", \"South\", \"East\", \"West\"]}\n",
    "    hists = []\n",
    "\n",
    "    for trial in trials:\n",
    "        hist, count = count_box_opened(trial.get(\"events\", []))\n",
    "        for room in [\"North\", \"South\", \"East\", \"West\"]:\n",
    "            counts[room].append(count[room])\n",
    "        hists.append(hist)\n",
    "\n",
    "    return counts, hists\n",
    "\n",
    "\n",
    "\n",
    "first_area_rich_values = []\n",
    "\n",
    "trials = log.get(\"trials\", [])\n",
    "\n",
    "for trial in trials:\n",
    "    events = trial.get(\"events\", [])\n",
    "\n",
    "    for event in events:\n",
    "        if event[\"trialEvent\"].startswith(\"Opened Box\"):\n",
    "            room, first_area_rich = check_first_area_rich(event)\n",
    "            first_area_rich_values.append((room, first_area_rich))\n",
    "\n",
    "first_area_rich_values"
   ]
  },
  {
   "cell_type": "code",
   "execution_count": 83,
   "metadata": {},
   "outputs": [
    {
     "name": "stderr",
     "output_type": "stream",
     "text": [
      "/var/folders/0g/b__jgt415791qz3xxph3zprh0000gn/T/ipykernel_2519/577690944.py:8: RuntimeWarning: More than 20 figures have been opened. Figures created through the pyplot interface (`matplotlib.pyplot.figure`) are retained until explicitly closed and may consume too much memory. (To control this warning, see the rcParam `figure.max_open_warning`). Consider using `matplotlib.pyplot.close()`.\n",
      "  plt.figure(figsize=(10, 6)) # era 10,3...quindi ho ingrandito un po' la size della figura sulla y\n"
     ]
    },
    {
     "data": {
      "text/plain": [
       "<Figure size 1000x600 with 0 Axes>"
      ]
     },
     "metadata": {},
     "output_type": "display_data"
    },
    {
     "data": {
      "text/plain": [
       "<Figure size 1000x600 with 0 Axes>"
      ]
     },
     "metadata": {},
     "output_type": "display_data"
    },
    {
     "data": {
      "text/plain": [
       "<Figure size 1000x600 with 0 Axes>"
      ]
     },
     "metadata": {},
     "output_type": "display_data"
    },
    {
     "data": {
      "text/plain": [
       "<Figure size 1000x600 with 0 Axes>"
      ]
     },
     "metadata": {},
     "output_type": "display_data"
    },
    {
     "data": {
      "text/plain": [
       "<Figure size 1000x600 with 0 Axes>"
      ]
     },
     "metadata": {},
     "output_type": "display_data"
    },
    {
     "data": {
      "text/plain": [
       "<Figure size 1000x600 with 0 Axes>"
      ]
     },
     "metadata": {},
     "output_type": "display_data"
    },
    {
     "data": {
      "text/plain": [
       "<Figure size 1000x600 with 0 Axes>"
      ]
     },
     "metadata": {},
     "output_type": "display_data"
    },
    {
     "data": {
      "text/plain": [
       "<Figure size 1000x600 with 0 Axes>"
      ]
     },
     "metadata": {},
     "output_type": "display_data"
    },
    {
     "data": {
      "text/plain": [
       "<Figure size 1000x600 with 0 Axes>"
      ]
     },
     "metadata": {},
     "output_type": "display_data"
    },
    {
     "data": {
      "text/plain": [
       "<Figure size 1000x600 with 0 Axes>"
      ]
     },
     "metadata": {},
     "output_type": "display_data"
    },
    {
     "data": {
      "text/plain": [
       "<Figure size 1000x600 with 0 Axes>"
      ]
     },
     "metadata": {},
     "output_type": "display_data"
    },
    {
     "data": {
      "text/plain": [
       "<Figure size 1000x600 with 0 Axes>"
      ]
     },
     "metadata": {},
     "output_type": "display_data"
    },
    {
     "data": {
      "text/plain": [
       "<Figure size 1000x600 with 0 Axes>"
      ]
     },
     "metadata": {},
     "output_type": "display_data"
    },
    {
     "data": {
      "text/plain": [
       "<Figure size 1000x600 with 0 Axes>"
      ]
     },
     "metadata": {},
     "output_type": "display_data"
    },
    {
     "data": {
      "text/plain": [
       "<Figure size 1000x600 with 0 Axes>"
      ]
     },
     "metadata": {},
     "output_type": "display_data"
    },
    {
     "data": {
      "text/plain": [
       "<Figure size 1000x600 with 0 Axes>"
      ]
     },
     "metadata": {},
     "output_type": "display_data"
    },
    {
     "data": {
      "text/plain": [
       "<Figure size 1000x600 with 0 Axes>"
      ]
     },
     "metadata": {},
     "output_type": "display_data"
    },
    {
     "data": {
      "text/plain": [
       "<Figure size 1000x600 with 0 Axes>"
      ]
     },
     "metadata": {},
     "output_type": "display_data"
    },
    {
     "data": {
      "text/plain": [
       "<Figure size 1000x600 with 0 Axes>"
      ]
     },
     "metadata": {},
     "output_type": "display_data"
    },
    {
     "data": {
      "text/plain": [
       "<Figure size 1000x600 with 0 Axes>"
      ]
     },
     "metadata": {},
     "output_type": "display_data"
    },
    {
     "data": {
      "text/plain": [
       "<Figure size 1000x600 with 0 Axes>"
      ]
     },
     "metadata": {},
     "output_type": "display_data"
    },
    {
     "data": {
      "text/plain": [
       "<Figure size 1000x600 with 0 Axes>"
      ]
     },
     "metadata": {},
     "output_type": "display_data"
    },
    {
     "data": {
      "text/plain": [
       "<Figure size 1000x600 with 0 Axes>"
      ]
     },
     "metadata": {},
     "output_type": "display_data"
    },
    {
     "data": {
      "text/plain": [
       "<Figure size 1000x600 with 0 Axes>"
      ]
     },
     "metadata": {},
     "output_type": "display_data"
    },
    {
     "data": {
      "text/plain": [
       "<Figure size 1000x600 with 0 Axes>"
      ]
     },
     "metadata": {},
     "output_type": "display_data"
    },
    {
     "data": {
      "text/plain": [
       "<Figure size 1000x600 with 0 Axes>"
      ]
     },
     "metadata": {},
     "output_type": "display_data"
    },
    {
     "data": {
      "text/plain": [
       "<Figure size 1000x600 with 0 Axes>"
      ]
     },
     "metadata": {},
     "output_type": "display_data"
    },
    {
     "data": {
      "text/plain": [
       "<Figure size 1000x600 with 0 Axes>"
      ]
     },
     "metadata": {},
     "output_type": "display_data"
    },
    {
     "data": {
      "text/plain": [
       "<Figure size 1000x600 with 0 Axes>"
      ]
     },
     "metadata": {},
     "output_type": "display_data"
    },
    {
     "data": {
      "text/plain": [
       "<Figure size 1000x600 with 0 Axes>"
      ]
     },
     "metadata": {},
     "output_type": "display_data"
    },
    {
     "data": {
      "text/plain": [
       "<Figure size 1000x600 with 0 Axes>"
      ]
     },
     "metadata": {},
     "output_type": "display_data"
    }
   ],
   "source": [
    "\n",
    "for idx in range(len(data)):\n",
    "    log = data[idx]\n",
    "    name = log[\"user\"][\"nickname\"] #per estrarre il valore del nickname contenuto dentro user e assegnarlo alla variabile name\n",
    "\n",
    "    _, hists = count_box_opened_over_trials(log[\"trials\"])\n",
    "    \n",
    "\n",
    "    plt.figure(figsize=(10, 6)) # era 10,3...quindi ho ingrandito un po' la size della figura sulla y\n",
    "    plt.title(\"Subject \" + name)\n",
    "    for x,hist in enumerate(hists): #enumerate viene usato per ottenere sia l'indice x che il valore hist da ogni elemento di hists\n",
    "        y = 0\n",
    "        for room in hist:\n",
    "            plt.scatter(x, y, color=colors[room], marker=\"s\", s=70, edgecolors=\"k\")\n",
    "            if first_area_rich_values == True:\n",
    "                plt.scatter(x, y, color=colors[room], marker=\"s\", s=70, edgecolors=\"k\", linewidth=10)\n",
    "            #mettere qui la stellina * (se ricca metti stella, se povera non metti nulla)\n",
    "            #guardare z order per spostare su y - order in layer\n",
    "            #parametro alpha, va da 0 a 1 - 0 se trasparente\n",
    "            y += 1\n",
    "            \n",
    "    for x in range(0, 2): #mi crea le linee per separare i blocchi\n",
    "        plt.axvline(4.5 + x * 20, color=\"k\", alpha=1)\n",
    "        plt.axvline(25.5,color=\"k\", alpha=1) # ho aggiunto questa linea per dividere il trial di prova che separa i due blocchi\n",
    "            \n",
    "        textYPos = -6 # ho messo -6 perchè voglio che la posizione della scritta nel grafico \"Blocco 1\" e \"Blocco 2\" sia più bassa di quella del \"trialCode\", che infatti è -2) nel grafico \n",
    "        if x%2==0:\n",
    "            plt.text(4.5+x*20+8, textYPos, \"Blocco 1\", color=\"k\", fontweight=\"bold\")\n",
    "            \n",
    "        else:\n",
    "            plt.text(4.5+x*20+8, textYPos, \"Blocco 2\", color=\"k\", fontweight=\"bold\")\n",
    "\n",
    "    \n",
    "    for x, trial in enumerate(log[\"trials\"]): # qui ciclo tra gli elementi della lista log[\"trials\"].  NB: uso enumerate perchè mi dà sia l'indice (x) che il valore (trial) di ogni elemento nella lista.\n",
    "        trialCode = trial[\"trialCode\"] # per ciascun elemento trials nella lista io voglio il suo trialCode\n",
    "        plt.text(x , -2.5, trialCode, ha='center', va='center', rotation='vertical') # per scrivere sotto ogni riga il nome del trial (trialCode)\n",
    "        #commento la riga sopra: x é la posizione orizzontale della colonna corrente nel grafico, -2.5 è posizione sull'asse verticale della scritta  \n",
    "        \n",
    "        \n",
    "    plt.yticks([])\n",
    "    plt.ylabel(\"# Boxes opened\")\n",
    "    plt.xlabel(\"Trial\")\n",
    "    plt.xticks([])\n",
    "    plt.axis(\"equal\") # per avere lo spazio figura-bordo uguale sia su x che su y\n",
    "    plt.tight_layout()\n",
    "\n",
    "    handles = [] # qui sto inizializzando una lista vuota\n",
    "    for room, color in colors.items():\n",
    "        patch = mpatches.Patch(color=color, label=room)\n",
    "        handles.append(patch) #qui riempio la lista che ho creato 3 righe sopra\n",
    "    plt.legend(handles=handles) #per creare la legenda\n",
    "\n",
    "    \n",
    "    plt.savefig(\"out/Subject\" + name + \"_hists.png\", dpi=300)\n",
    "    plt.clf()\n",
    "\n"
   ]
  }
 ],
 "metadata": {
  "kernelspec": {
   "display_name": "Python 3",
   "language": "python",
   "name": "python3"
  },
  "language_info": {
   "codemirror_mode": {
    "name": "ipython",
    "version": 3
   },
   "file_extension": ".py",
   "mimetype": "text/x-python",
   "name": "python",
   "nbconvert_exporter": "python",
   "pygments_lexer": "ipython3",
   "version": "3.10.11"
  },
  "orig_nbformat": 4,
  "vscode": {
   "interpreter": {
    "hash": "aee8b7b246df8f9039afb4144a1f6fd8d2ca17a180786b69acc140d282b71a49"
   }
  }
 },
 "nbformat": 4,
 "nbformat_minor": 2
}
