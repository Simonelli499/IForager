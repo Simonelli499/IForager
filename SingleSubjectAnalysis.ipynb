{
 "cells": [
  {
   "cell_type": "code",
   "execution_count": 35,
   "metadata": {},
   "outputs": [],
   "source": [
    "#In questo script voglio calcolare queste cose per ogni soggetto:\n",
    "\n",
    "# - Numero medio di box prese nei trial lunghi\n",
    "# - Numero medio di box prese nei trial corti\n",
    "# - Tempo medio presa prima cassa seconda area nei trial lunghi\n",
    "# - Tempo medio presa prima cassa seconda area nei trial corti"
   ]
  },
  {
   "cell_type": "code",
   "execution_count": 36,
   "metadata": {},
   "outputs": [],
   "source": [
    "import json\n",
    "import os\n",
    "from collections import Counter\n",
    "import matplotlib.pyplot as plt\n",
    "import matplotlib.patches as mpatches\n",
    "import numpy as np\n",
    "import scipy.optimize as opt\n",
    "import pandas as pd\n",
    "import statsmodels.api as sm\n",
    "import statsmodels.formula.api as smf\n",
    "from copy import deepcopy\n",
    "import statsmodels.api as sm\n",
    "import statsmodels.formula.api as smf\n",
    "import pandas as pd"
   ]
  },
  {
   "cell_type": "code",
   "execution_count": 37,
   "metadata": {},
   "outputs": [],
   "source": [
    "data = pd.read_csv('out/results.csv')  # read data"
   ]
  },
  {
   "cell_type": "code",
   "execution_count": 41,
   "metadata": {},
   "outputs": [
    {
     "name": "stdout",
     "output_type": "stream",
     "text": [
      "Dati esportati in out/singlesubjectanalysis.xlsx e out/singlesubjectanalysis.csv\n"
     ]
    }
   ],
   "source": [
    "unique_participant_codes = data[\"SubjectCode\"].unique()\n",
    "\n",
    "means = []\n",
    "results = []\n",
    "\n",
    "for participant_code in unique_participant_codes:\n",
    "\n",
    "    condition1 = (data[\"SubjectCode\"] == participant_code) & (data[\"LongBattery\"] == True)\n",
    "    data1 = data[condition1]\n",
    "\n",
    "    condition2 = (data[\"SubjectCode\"] == participant_code) & (data[\"LongBattery\"] == False)\n",
    "    data2 = data[condition2]\n",
    "    \n",
    "    conditiontime1 = (data[\"SubjectCode\"] == participant_code)& (data[\"LongBattery\"] == True)\n",
    "    datatime1 = data[conditiontime1]\n",
    "\n",
    "    conditiontime2 = (data[\"SubjectCode\"] == participant_code) & (data[\"LongBattery\"] == False)\n",
    "    datatime2 = data[conditiontime2]\n",
    "\n",
    "    conditiontime3 = (data[\"SubjectCode\"] == participant_code)& (data[\"LongBattery\"] == True)\n",
    "    datatime3 = data[conditiontime3]\n",
    "\n",
    "    conditiontime4 = (data[\"SubjectCode\"] == participant_code) & (data[\"LongBattery\"] == False)\n",
    "    datatime4 = data[conditiontime4]\n",
    "\n",
    "\n",
    "    boxopenedpertrial_longbattery = data1[\"BoxOpenedPerTrial\"].to_numpy()\n",
    "    boxopenedpertrial_shortbattery = data2[\"BoxOpenedPerTrial\"].to_numpy()\n",
    "    timetoexitfirstareaandtakeboxinthesecond_longbattery = datatime1[\"TimeToExitFirstAreaAndTakeABoxInTheSecond\"].to_numpy()\n",
    "    timetoexitfirstareaandtakeboxinthesecond_shortbattery = datatime2[\"TimeToExitFirstAreaAndTakeABoxInTheSecond\"].to_numpy()\n",
    "    timetoexitfirstarea_longbattery = datatime3[\"LastToMarginTime\"].to_numpy()\n",
    "    timetoexitfirstarea_shortbattery = datatime4[\"LastToMarginTime\"].to_numpy()\n",
    "\n",
    "\n",
    "\n",
    "    boxopenedpertrial_longbattery_mean = boxopenedpertrial_longbattery.mean()\n",
    "    boxopenedpertrial_shortbattery_mean = boxopenedpertrial_shortbattery.mean()\n",
    "    timetoexitfirstareaandtakeboxinthesecond_longbattery_mean = timetoexitfirstareaandtakeboxinthesecond_longbattery.mean()\n",
    "    timetoexitfirstareaandtakeboxinthesecond_shortbattery_mean = timetoexitfirstareaandtakeboxinthesecond_shortbattery.mean()\n",
    "    timetoexitfirstarea_longbattery_mean = timetoexitfirstarea_longbattery.mean()\n",
    "    timetoexitfirstarea_shortbattery_mean = timetoexitfirstarea_shortbattery.mean()\n",
    "\n",
    "\n",
    "    \n",
    "    means.append(boxopenedpertrial_longbattery_mean)\n",
    "    means.append(boxopenedpertrial_shortbattery_mean)\n",
    "    means.append(timetoexitfirstareaandtakeboxinthesecond_longbattery_mean)\n",
    "    means.append(timetoexitfirstareaandtakeboxinthesecond_shortbattery_mean)\n",
    "    means.append(timetoexitfirstarea_longbattery_mean)\n",
    "    means.append(timetoexitfirstarea_shortbattery_mean)\n",
    "\n",
    "\n",
    "\n",
    "        # Qui vado ad aggiungere i dati del trial corrente alla lista results inizializzata all'inizio\n",
    "    results.append({\n",
    "        \"Subject Code\": participant_code, \n",
    "        \"Box Opened Per Trial Mean - Long Battery\": boxopenedpertrial_longbattery_mean,\n",
    "        \"Box Opened Per Trial Mean - Short Battery\": boxopenedpertrial_shortbattery_mean,\n",
    "        \"TimeToExitFirstAreaAndTakeABoxInTheSecond - Long Battery\": timetoexitfirstareaandtakeboxinthesecond_longbattery_mean,\n",
    "        \"TimeToExitFirstAreaAndTakeABoxInTheSecond - Short Battery\": timetoexitfirstareaandtakeboxinthesecond_shortbattery_mean,\n",
    "        \"TimeToExitFirstArea - Long Battery\": timetoexitfirstarea_longbattery_mean,\n",
    "        \"TimeToExitFirstArea - Short Battery\": timetoexitfirstarea_shortbattery_mean,\n",
    "        })  \n",
    "\n",
    "\n",
    "\n",
    "# Creo un df (dataframe) dove metto i results - uso pandas as pd qui!!\n",
    "dataframe = pd.DataFrame(results)\n",
    "\n",
    "# Esporto il df in un file Excel\n",
    "excel_file = \"out/singlesubjectanalysis.xlsx\"\n",
    "dataframe.to_excel(excel_file, index=False)\n",
    "\n",
    "# Esporto il df in un file CSV (.csv)\n",
    "csv_file = \"out/singlesubjectanalysis.csv\"\n",
    "dataframe.to_csv(csv_file, index=False)\n",
    "\n",
    "print(f\"Dati esportati in {excel_file} e {csv_file}\")\n"
   ]
  },
  {
   "cell_type": "code",
   "execution_count": 7,
   "metadata": {},
   "outputs": [
    {
     "data": {
      "text/plain": [
       "(array([0., 0., 0., 2., 6., 4., 3., 1., 2.]),\n",
       " array([0., 1., 2., 3., 4., 5., 6., 7., 8., 9.]),\n",
       " <BarContainer object of 9 artists>)"
      ]
     },
     "execution_count": 7,
     "metadata": {},
     "output_type": "execute_result"
    },
    {
     "data": {
      "image/png": "[encoded data removed]",
      "text/plain": [
       "<Figure size 640x480 with 1 Axes>"
      ]
     },
     "metadata": {},
     "output_type": "display_data"
    },
    {
     "data": {
      "image/png": "[encoded data removed]",
      "text/plain": [
       "<Figure size 640x480 with 1 Axes>"
      ]
     },
     "metadata": {},
     "output_type": "display_data"
    }
   ],
   "source": [
    "plt.figure()\n",
    "plt.hist(timetoexitfirstareaandtakeboxinthesecond_longbattery,np.arange(10))\n",
    "\n",
    "plt.figure()\n",
    "plt.hist(timetoexitfirstareaandtakeboxinthesecond_shortbattery,np.arange(10))"
   ]
  },
  {
   "cell_type": "code",
   "execution_count": 15,
   "metadata": {},
   "outputs": [
    {
     "data": {
      "text/plain": [
       "Text(0.5, 1.0, 'Time to exit and take the first box in the second area')"
      ]
     },
     "execution_count": 15,
     "metadata": {},
     "output_type": "execute_result"
    },
    {
     "data": {
      "image/png": "[encoded data removed]",
      "text/plain": [
       "<Figure size 640x480 with 1 Axes>"
      ]
     },
     "metadata": {},
     "output_type": "display_data"
    }
   ],
   "source": [
    "plt.figure()\n",
    "plt.hist(timetoexitfirstareaandtakeboxinthesecond_longbattery,np.arange(0,10,0.2), alpha = 0.5)\n",
    "plt.hist(timetoexitfirstareaandtakeboxinthesecond_shortbattery,np.arange(0,10,0.2), alpha = 0.5)\n",
    "plt.legend(['Long Battery','Short Battery'])\n",
    "plt.title('Time to exit and take the first box in the second area')"
   ]
  },
  {
   "cell_type": "code",
   "execution_count": 44,
   "metadata": {},
   "outputs": [
    {
     "name": "stdout",
     "output_type": "stream",
     "text": [
      "Differenza significativa\n",
      "Results saved to 'TimeToExitFirstAreaAndTakeBoxInTheSecond_ttestresults.csv'.\n",
      "[['Long battery conditions', 2.171511666577102, 0.03620303375156274, 'Significant difference']]\n"
     ]
    }
   ],
   "source": [
    "results = []\n",
    "t_stat, p_value = stats.ttest_ind(timetoexitfirstareaandtakeboxinthesecond_longbattery, timetoexitfirstareaandtakeboxinthesecond_shortbattery)\n",
    "results.append([\"Long battery conditions\", t_stat, p_value, \"Significant difference\" if p_value < 0.05 else \"Non significant difference\"])\n",
    "\n",
    "alpha = 0.05\n",
    "if p_value < alpha:\n",
    "    print(\"Differenza significativa\")\n",
    "else:\n",
    "    print(\"Nessuna differenza significativa\")\n",
    "\n",
    "# Create a DataFrame to store the results\n",
    "columns = [\"Test\", \"Statistic\", \"P-Value\", \"Significance\"]\n",
    "results_df = pd.DataFrame(results, columns=columns)\n",
    "\n",
    "# Save the results to a CSV file\n",
    "results_df.to_csv('TimeToExitFirstAreaAndTakeBoxInTheSecond_ttestresults.csv', index=False)\n",
    "\n",
    "print(\"Results saved to 'TimeToExitFirstAreaAndTakeBoxInTheSecond_ttestresults.csv'.\")\n",
    "print(results)"
   ]
  }
 ],
 "metadata": {
  "kernelspec": {
   "display_name": "Python 3",
   "language": "python",
   "name": "python3"
  },
  "language_info": {
   "codemirror_mode": {
    "name": "ipython",
    "version": 3
   },
   "file_extension": ".py",
   "mimetype": "text/x-python",
   "name": "python",
   "nbconvert_exporter": "python",
   "pygments_lexer": "ipython3",
   "version": "3.10.11 (v3.10.11:7d4cc5aa85, Apr  4 2023, 19:05:19) [Clang 13.0.0 (clang-1300.0.29.30)]"
  },
  "orig_nbformat": 4,
  "vscode": {
   "interpreter": {
    "hash": "aee8b7b246df8f9039afb4144a1f6fd8d2ca17a180786b69acc140d282b71a49"
   }
  }
 },
 "nbformat": 4,
 "nbformat_minor": 2
}
