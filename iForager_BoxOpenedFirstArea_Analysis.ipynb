{
 "cells": [
  {
   "cell_type": "code",
   "execution_count": 18,
   "metadata": {},
   "outputs": [],
   "source": [
    "#in questo notebook faccio LMM e t-test (sia parametrico che non) per vedere l'impatto delle mie VI sulla VD = BoxOpenedFirstArea (i.e., numero di box aperte nella prima area)"
   ]
  },
  {
   "cell_type": "code",
   "execution_count": 12,
   "metadata": {},
   "outputs": [],
   "source": [
    "import json\n",
    "import os\n",
    "from collections import Counter\n",
    "import matplotlib.pyplot as plt\n",
    "import matplotlib.patches as mpatches\n",
    "import numpy as np\n",
    "import scipy.optimize as opt\n",
    "import pandas as pd\n",
    "import statsmodels.api as sm\n",
    "import statsmodels.formula.api as smf\n",
    "from copy import deepcopy"
   ]
  },
  {
   "cell_type": "code",
   "execution_count": 13,
   "metadata": {},
   "outputs": [],
   "source": [
    "import statsmodels.api as sm\n",
    "import statsmodels.formula.api as smf\n",
    "import pandas as pd"
   ]
  },
  {
   "cell_type": "code",
   "execution_count": 20,
   "metadata": {},
   "outputs": [],
   "source": [
    "data = pd.read_excel('out/results_seensensoronly.xlsx')  # read data where i have removed all the trials where people have not seen the sensor "
   ]
  },
  {
   "cell_type": "code",
   "execution_count": 22,
   "metadata": {},
   "outputs": [
    {
     "data": {
      "text/plain": [
       "33"
      ]
     },
     "execution_count": 22,
     "metadata": {},
     "output_type": "execute_result"
    }
   ],
   "source": [
    "len(data[\"SubjectCode\"].unique())"
   ]
  },
  {
   "cell_type": "code",
   "execution_count": 23,
   "metadata": {},
   "outputs": [
    {
     "data": {
      "text/plain": [
       "1301"
      ]
     },
     "execution_count": 23,
     "metadata": {},
     "output_type": "execute_result"
    }
   ],
   "source": [
    "len(data)"
   ]
  },
  {
   "cell_type": "code",
   "execution_count": 35,
   "metadata": {},
   "outputs": [
    {
     "name": "stdout",
     "output_type": "stream",
     "text": [
      "650.5\n"
     ]
    }
   ],
   "source": [
    "print(1301/2)"
   ]
  },
  {
   "cell_type": "code",
   "execution_count": 24,
   "metadata": {},
   "outputs": [
    {
     "name": "stdout",
     "output_type": "stream",
     "text": [
      "             Mixed Linear Model Regression Results\n",
      "================================================================\n",
      "Model:            MixedLM Dependent Variable: BoxOpenedFirstArea\n",
      "No. Observations: 1301    Method:             REML              \n",
      "No. Groups:       33      Scale:              0.8305            \n",
      "Min. group size:  24      Log-Likelihood:     -1807.2683        \n",
      "Max. group size:  40      Converged:          Yes               \n",
      "Mean group size:  39.4                                          \n",
      "-----------------------------------------------------------------\n",
      "                  Coef.   Std.Err.    z     P>|z|  [0.025  0.975]\n",
      "-----------------------------------------------------------------\n",
      "LongBattery        0.672     0.051  13.191  0.000   0.572   0.771\n",
      "RichEnvironment   -0.319     0.061  -5.242  0.000  -0.438  -0.200\n",
      "FirstAreaRich      1.556     0.072  21.462  0.000   1.414   1.698\n",
      "Group Var          2.323     0.662                               \n",
      "================================================================\n",
      "\n"
     ]
    }
   ],
   "source": [
    "import statsmodels\n",
    "endog = data[\"BoxOpenedFirstArea\"] # variabile dipendente\n",
    "exog = data[[\"LongBattery\",\"RichEnvironment\",\"FirstAreaRich\"]] # variabili indipendenti\n",
    "\n",
    "\n",
    "groups = data['Subject'] # nel modello lineare misto devo mettere la grouping variable\n",
    "model = statsmodels.regression.mixed_linear_model.MixedLM(endog, exog, groups)\n",
    "result = model.fit()\n",
    "print(result.summary())"
   ]
  },
  {
   "cell_type": "code",
   "execution_count": 25,
   "metadata": {},
   "outputs": [
    {
     "name": "stdout",
     "output_type": "stream",
     "text": [
      "                         Mixed Linear Model Regression Results\n",
      "========================================================================================\n",
      "Model:                    MixedLM         Dependent Variable:         BoxOpenedFirstArea\n",
      "No. Observations:         1301            Method:                     REML              \n",
      "No. Groups:               33              Scale:                      0.8167            \n",
      "Min. group size:          24              Log-Likelihood:             -1767.5534        \n",
      "Max. group size:          40              Converged:                  Yes               \n",
      "Mean group size:          39.4                                                          \n",
      "----------------------------------------------------------------------------------------\n",
      "                                              Coef.  Std.Err.   z    P>|z| [0.025 0.975]\n",
      "----------------------------------------------------------------------------------------\n",
      "Intercept                                      1.646    0.126 13.025 0.000  1.398  1.893\n",
      "LongBattery[T.True]                            0.259    0.103  2.509 0.012  0.057  0.462\n",
      "FirstAreaRich[T.True]                          1.275    0.100 12.721 0.000  1.079  1.471\n",
      "RichEnvironment[T.True]                       -2.039    0.925 -2.203 0.028 -3.853 -0.225\n",
      "LongBattery[T.True]:FirstAreaRich[T.True]      0.453    0.143  3.179 0.001  0.174  0.733\n",
      "LongBattery[T.True]:RichEnvironment[T.True]    0.091    0.121  0.756 0.450 -0.145  0.328\n",
      "RichEnvironment[T.True]:FirstAreaRich[T.True]  1.684    0.921  1.828 0.068 -0.122  3.490\n",
      "Group Var                                      0.360    0.107                           \n",
      "========================================================================================\n",
      "\n"
     ]
    }
   ],
   "source": [
    "# creo la formula che mi serve per vedere leffeto delle mie variabili indipendenti su quelle dipendenti\n",
    "\n",
    "formula = \"BoxOpenedFirstArea ~  LongBattery * FirstAreaRich + LongBattery * RichEnvironment + \\\n",
    "                                 RichEnvironment * FirstAreaRich\" \n",
    "model = smf.mixedlm(formula, data=data, groups = data['Subject'])\n",
    "\n",
    "result = model.fit()\n",
    "print(result.summary())"
   ]
  },
  {
   "cell_type": "code",
   "execution_count": 26,
   "metadata": {},
   "outputs": [],
   "source": [
    "# a seguire gli dico di prendere in data, che come ho definito sopra come la variabile che mi prende il csv,\n",
    "# i valori associati a true o false delle mie tre condizioni - i.e LongBattery, RichEnvironment, FirstAreaRich - e definisco questa variabile come data1,2,3 o 4\n",
    "# poi voglio che dentro questo data 1,2, 3 o 4 mi prenda solo la colonna che mi interessa, ovvero BoxOpenedFirstArea\n",
    "\n",
    "condizione_1 = (data[\"LongBattery\"] == True) & (data[\"RichEnvironment\"] == True) & (data[\"FirstAreaRich\"] == True)\n",
    "data1 = data [condizione_1] # prendimi in data quelle righe dove la condizione_1 è soddisfatta e chiama questa variabile contenente i dati puliti secondo la mia condizione \"data1\"\n",
    "\n",
    "condizione_2 = (data[\"LongBattery\"] == True) & (data[\"RichEnvironment\"] == False) & (data[\"FirstAreaRich\"] == True)\n",
    "data2 = data [condizione_2]\n",
    "\n",
    "condizione_3 = (data[\"LongBattery\"] == False) & (data[\"RichEnvironment\"] == True) & (data[\"FirstAreaRich\"] == True)\n",
    "data3 = data [condizione_3]\n",
    "\n",
    "condizione_4 = (data[\"LongBattery\"] == False) & (data[\"RichEnvironment\"] == False) & (data[\"FirstAreaRich\"] == True)\n",
    "data4 = data [condizione_4]\n",
    "\n",
    "\n",
    "\n",
    "box_opened_1 = data1[\"BoxOpenedFirstArea\"] # dentro data 1 prendi solo la colonna \"BoxOpenedFirstArea\"\n",
    "box_opened_1 = box_opened_1.to_numpy() #toglie gli indici e mi scrive solo i valori dei BoxOpenedFirstArea\n",
    "\n",
    "box_opened_2 = data2[\"BoxOpenedFirstArea\"] # dentro data 1 prendi solo la colonna \"BoxOpenedFirstArea\"\n",
    "box_opened_2 = box_opened_2.to_numpy() #toglie gli indici e mi scrive solo i valori dei BoxOpenedFirstArea\n",
    "\n",
    "box_opened_3 = data3[\"BoxOpenedFirstArea\"] # dentro data 1 prendi solo la colonna \"BoxOpenedFirstArea\"\n",
    "box_opened_3 = box_opened_3.to_numpy() #toglie gli indici e mi scrive solo i valori dei BoxOpenedFirstArea\n",
    "\n",
    "box_opened_4 = data4[\"BoxOpenedFirstArea\"] # dentro data 1 prendi solo la colonna \"BoxOpenedFirstArea\"\n",
    "box_opened_4 = box_opened_4.to_numpy() #toglie gli indici e mi scrive solo i valori dei BoxOpenedFirstArea\n",
    "\n",
    "# per calcolare la media dei valori nelle 3 condizioni\n",
    "#print(np.mean(box_opened_1))\n",
    "#print(np.mean(box_opened_2))\n",
    "#print(np.mean(box_opened_3)) \n",
    "#print(np.mean(box_opened_4))\n",
    "\n",
    "# per printarmi tutti i valori contenuti nelle box_opened \n",
    "#print(box_opened_1)\n",
    "#print(box_opened_2)\n",
    "#print(box_opened_3)\n",
    "#print(box_opened_4)\n",
    "\n",
    "\n"
   ]
  },
  {
   "cell_type": "code",
   "execution_count": 37,
   "metadata": {},
   "outputs": [
    {
     "name": "stdout",
     "output_type": "stream",
     "text": [
      "320\n",
      "177\n",
      "328\n",
      "167\n",
      "344\n"
     ]
    }
   ],
   "source": [
    "print(len(data1))\n",
    "print(len(data2))\n",
    "print(len(data3))\n",
    "print(len(data4))\n",
    "\n"
   ]
  },
  {
   "cell_type": "code",
   "execution_count": null,
   "metadata": {},
   "outputs": [],
   "source": [
    "condizione_5 = (data[\"LongBattery\"] == True) & (data[\"RichEnvironment\"] == True) & (data[\"FirstAreaRich\"] == False)\n",
    "data5 = data [condizione_5]\n",
    "\n",
    "condizione_6 = (data[\"LongBattery\"] == False) & (data[\"RichEnvironment\"] == False) & (data[\"FirstAreaRich\"] == False)\n",
    "data6 = data [condizione_6]"
   ]
  },
  {
   "cell_type": "code",
   "execution_count": 28,
   "metadata": {},
   "outputs": [
    {
     "name": "stdout",
     "output_type": "stream",
     "text": [
      "320\n",
      "177\n",
      "328\n",
      "167\n",
      "1005\n"
     ]
    }
   ],
   "source": [
    "print(len(box_opened_1))\n",
    "print(len(box_opened_2))\n",
    "print(len(box_opened_3))\n",
    "print(len(box_opened_4))\n",
    "print(323+185+329+168)"
   ]
  },
  {
   "cell_type": "code",
   "execution_count": 89,
   "metadata": {},
   "outputs": [
    {
     "name": "stdout",
     "output_type": "stream",
     "text": [
      "10\n",
      "10\n",
      "10\n",
      "10\n",
      "10\n",
      "10\n",
      "10\n",
      "10\n",
      "10\n",
      "10\n",
      "10\n",
      "10\n",
      "10\n",
      "10\n",
      "10\n",
      "10\n",
      "10\n",
      "10\n",
      "10\n",
      "10\n",
      "10\n",
      "10\n",
      "10\n",
      "10\n",
      "10\n",
      "10\n",
      "10\n",
      "10\n",
      "10\n",
      "9\n",
      "4\n",
      "10\n",
      "10\n",
      "[3.9        3.5        3.2        4.3        2.7        3.2\n",
      " 3.7        2.9        2.8        4.5        3.9        2.8\n",
      " 4.2        3.8        4.1        3.2        2.3        3.3\n",
      " 3.1        3.1        3.4        3.1        2.3        4.8\n",
      " 3.8        1.9        2.2        3.3        4.4        3.55555556\n",
      " 4.         3.2        2.9       ]\n"
     ]
    }
   ],
   "source": [
    "subject_number = len(data[\"SubjectCode\"].unique())\n",
    "subject_ids = data[\"SubjectCode\"].unique()\n",
    "\n",
    "mean_per_subject_1 = np.zeros(subject_number)\n",
    "\n",
    "for i,id in enumerate(subject_ids):\n",
    "\n",
    "    per_subject_1 = data1[data1[\"SubjectCode\"] == id]\n",
    "    box_opened_per_subject_1 = per_subject_1[\"BoxOpenedFirstArea\"] # dentro data 1 prendi solo la colonna \"BoxOpenedFirstArea\"\n",
    "    box_opened_per_subject_1 = box_opened_per_subject_1.to_numpy()\n",
    "    \n",
    "    mean_per_subject_1[i] = box_opened_per_subject_1.mean()\n",
    "    print(len(box_opened_per_subject_1))\n",
    "\n",
    "print(mean_per_subject_1)"
   ]
  },
  {
   "cell_type": "code",
   "execution_count": 90,
   "metadata": {},
   "outputs": [
    {
     "name": "stdout",
     "output_type": "stream",
     "text": [
      "6\n",
      "4\n",
      "6\n",
      "5\n",
      "5\n",
      "5\n",
      "7\n",
      "7\n",
      "5\n",
      "5\n",
      "6\n",
      "8\n",
      "6\n",
      "6\n",
      "5\n",
      "5\n",
      "5\n",
      "6\n",
      "3\n",
      "5\n",
      "7\n",
      "6\n",
      "3\n",
      "5\n",
      "5\n",
      "7\n",
      "5\n",
      "5\n",
      "7\n",
      "6\n",
      "8\n",
      "6\n",
      "5\n",
      "[4.16666667 3.25       3.         4.6        3.         3.2\n",
      " 4.85714286 2.42857143 3.2        4.4        3.5        3.25\n",
      " 4.83333333 3.83333333 3.6        3.2        3.6        3.5\n",
      " 3.33333333 4.2        4.28571429 3.83333333 2.33333333 4.4\n",
      " 4.         2.14285714 3.2        3.8        4.42857143 3.83333333\n",
      " 3.625      3.33333333 3.        ]\n"
     ]
    }
   ],
   "source": [
    "mean_per_subject_2 = np.zeros(subject_number)\n",
    "\n",
    "for i,id in enumerate(subject_ids):\n",
    "\n",
    "    per_subject_2 = data2[data2[\"SubjectCode\"] == id]\n",
    "    box_opened_per_subject_2 = per_subject_2[\"BoxOpenedFirstArea\"] # dentro data 1 prendi solo la colonna \"BoxOpenedFirstArea\"\n",
    "    box_opened_per_subject_2 = box_opened_per_subject_2.to_numpy()\n",
    "    \n",
    "    mean_per_subject_2[i] = box_opened_per_subject_2.mean()\n",
    "    print(len(box_opened_per_subject_2))\n",
    "\n",
    "print(mean_per_subject_2)"
   ]
  },
  {
   "cell_type": "code",
   "execution_count": 91,
   "metadata": {},
   "outputs": [
    {
     "name": "stdout",
     "output_type": "stream",
     "text": [
      "10\n",
      "10\n",
      "10\n",
      "10\n",
      "10\n",
      "10\n",
      "10\n",
      "10\n",
      "10\n",
      "10\n",
      "10\n",
      "10\n",
      "10\n",
      "10\n",
      "10\n",
      "10\n",
      "10\n",
      "10\n",
      "10\n",
      "10\n",
      "10\n",
      "10\n",
      "10\n",
      "10\n",
      "10\n",
      "10\n",
      "10\n",
      "9\n",
      "10\n",
      "10\n",
      "10\n",
      "10\n",
      "10\n",
      "[3.1        1.9        1.9        2.5        2.9        2.9\n",
      " 4.         2.3        2.7        3.4        2.9        1.3\n",
      " 2.2        3.2        2.9        2.4        1.3        1.9\n",
      " 2.2        2.9        2.7        2.4        2.         3.7\n",
      " 4.4        1.3        1.7        1.88888889 4.5        2.5\n",
      " 2.7        2.5        1.6       ]\n"
     ]
    }
   ],
   "source": [
    "mean_per_subject_3 = np.zeros(subject_number)\n",
    "\n",
    "for i,id in enumerate(subject_ids):\n",
    "\n",
    "    per_subject_3 = data3[data3[\"SubjectCode\"] == id]\n",
    "    box_opened_per_subject_3 = per_subject_3[\"BoxOpenedFirstArea\"] # dentro data 1 prendi solo la colonna \"BoxOpenedFirstArea\"\n",
    "    box_opened_per_subject_3 = box_opened_per_subject_3.to_numpy()\n",
    "    \n",
    "    mean_per_subject_3[i] = box_opened_per_subject_3.mean()\n",
    "    print(len(box_opened_per_subject_3))\n",
    "\n",
    "print(mean_per_subject_3)"
   ]
  },
  {
   "cell_type": "code",
   "execution_count": 27,
   "metadata": {},
   "outputs": [
    {
     "name": "stdout",
     "output_type": "stream",
     "text": [
      "323\n",
      "185\n",
      "329\n",
      "168\n",
      "110.0\n",
      "3.362229102167183\n",
      "3.6324324324324326\n",
      "2.56838905775076\n",
      "2.9107142857142856\n"
     ]
    }
   ],
   "source": [
    "# per printarmi la lunghezza della print(box_opened_1) o delle altre... questo mi conta il numero di box aperte\n",
    "# lo faccio per evidenziare come ci sia uno sbilancio tra le diverse condizioni\n",
    "# è normale che ci sia perchè sto considerando tutte le condizioni quando il sogg entra in un ambiente ricco, e quindi per forza in una prima area ricca\n",
    "# mentre, non sto contanto le casse che il soggetto prende quando entra in un ambiente povero e in una prima area povera\n",
    "print(len(box_opened_1))\n",
    "print(len(box_opened_2))\n",
    "print(len(box_opened_3))\n",
    "print(len(box_opened_4))\n",
    "print(880/8)\n",
    "\n",
    "print(box_opened_1.mean())\n",
    "print(box_opened_2.mean())\n",
    "print(box_opened_3.mean())\n",
    "print(box_opened_4.mean())"
   ]
  },
  {
   "cell_type": "code",
   "execution_count": 28,
   "metadata": {},
   "outputs": [
    {
     "data": {
      "text/plain": [
       "(array([ 3., 15., 43., 54., 53.]),\n",
       " array([0., 1., 2., 3., 4., 5.]),\n",
       " <BarContainer object of 5 artists>)"
      ]
     },
     "execution_count": 28,
     "metadata": {},
     "output_type": "execute_result"
    },
    {
     "data": {
      "image/png": "[encoded data removed]",
      "text/plain": [
       "<Figure size 640x480 with 1 Axes>"
      ]
     },
     "metadata": {},
     "output_type": "display_data"
    },
    {
     "data": {
      "image/png": "[encoded data removed]",
      "text/plain": [
       "<Figure size 640x480 with 1 Axes>"
      ]
     },
     "metadata": {},
     "output_type": "display_data"
    },
    {
     "data": {
      "image/png": "[encoded data removed]",
      "text/plain": [
       "<Figure size 640x480 with 1 Axes>"
      ]
     },
     "metadata": {},
     "output_type": "display_data"
    },
    {
     "data": {
      "image/png": "[encoded data removed]",
      "text/plain": [
       "<Figure size 640x480 with 1 Axes>"
      ]
     },
     "metadata": {},
     "output_type": "display_data"
    }
   ],
   "source": [
    "# plotto le figure per vedere se la distribuzione dei dati è normale\n",
    "#La distribuzione normale ha la forma di una campana, dove il valore centrale corrisponde a media e mediana.\n",
    "#NB: a seguire metto 6 perchè il numero massimo di casse che il soggetto può aprire per area è 5\n",
    "\n",
    "plt.figure()\n",
    "plt.hist(box_opened_1,np.arange(6))\n",
    "\n",
    "plt.figure()\n",
    "plt.hist(box_opened_2,np.arange(6))\n",
    "\n",
    "plt.figure()\n",
    "plt.hist(box_opened_3,np.arange(6))\n",
    "\n",
    "plt.figure()\n",
    "plt.hist(box_opened_4,np.arange(6))"
   ]
  },
  {
   "cell_type": "code",
   "execution_count": 29,
   "metadata": {},
   "outputs": [],
   "source": [
    "# a seguire faccio il t-test\n",
    "\n",
    "# import scipy.stats as stats\n",
    "\n",
    "# # t-test delle condizioni in cui la batteria è lunga\n",
    "# t_stat, p_value = stats.ttest_ind(box_opened_1, box_opened_2)\n",
    "# print(\"t-test a campioni indipendenti sulle condizioni con la batteria lunga:\", t_stat, p_value)\n",
    "\n",
    "# alpha = 0.05\n",
    "# if p_value < alpha:\n",
    "#     print(\"Differenza significativa\")\n",
    "# else:\n",
    "#     print(\"Nessuna differenza significativa\")\n",
    "\n",
    "\n",
    "\n",
    "# # t-test delle condizioni in cui la batteria è corta\n",
    "# t_stat, p_value = stats.ttest_ind(box_opened_3, box_opened_4)\n",
    "# print(\"t-test a campioni indipendenti sulle condizioni con la batteria corta:\", t_stat, p_value)\n",
    "\n",
    "# alpha = 0.05\n",
    "# if p_value < alpha:\n",
    "#     print(\"Differenza significativa\")\n",
    "# else:\n",
    "#     print(\"Nessuna differenza significativa\")\n"
   ]
  },
  {
   "cell_type": "code",
   "execution_count": 30,
   "metadata": {},
   "outputs": [
    {
     "name": "stdout",
     "output_type": "stream",
     "text": [
      "t-test sulle condizioni con la batteria lunga: 25334.0 0.0029999519634805365\n",
      "Differenza significativa\n",
      "t-test non parametrico (Wilconxon-Mann-Whitney) sulle condizioni con la batteria corta: 22686.5 0.0007167699131698044\n",
      "Differenza significativa\n"
     ]
    }
   ],
   "source": [
    "# avendo visto qualche riga sopra che il numero delle casse aperte non è uguale tra le 4 condizioni faccio un altro tipo di test\n",
    "# questo test è un test non parametrico: \"test di Wilcoxon-Mann-Whitney\" - si utilizza come l'analogo non parametrico del t-test per campioni indipendenti\n",
    "\n",
    "import scipy.stats as stats\n",
    "\n",
    "\n",
    "statistic, p_value = stats.mannwhitneyu(box_opened_1, box_opened_2)\n",
    "print(\"t-test sulle condizioni con la batteria lunga:\", statistic, p_value)\n",
    "\n",
    "alpha = 0.05\n",
    "if p_value < alpha:\n",
    "    print(\"Differenza significativa\")\n",
    "else:\n",
    "    print(\"Nessuna differenza significativa\")\n",
    "\n",
    "\n",
    "\n",
    "statistic, p_value = stats.mannwhitneyu(box_opened_3, box_opened_4)\n",
    "print(\"t-test non parametrico (Wilconxon-Mann-Whitney) sulle condizioni con la batteria corta:\", statistic, p_value)\n",
    "\n",
    "alpha = 0.05\n",
    "if p_value < alpha:\n",
    "    print(\"Differenza significativa\")\n",
    "else:\n",
    "    print(\"Nessuna differenza significativa\")\n"
   ]
  },
  {
   "cell_type": "code",
   "execution_count": 31,
   "metadata": {},
   "outputs": [
    {
     "name": "stdout",
     "output_type": "stream",
     "text": [
      "Results saved to 'BoxOpenedFirstArea_mannwhitneyresults.csv'.\n",
      "[['Long battery conditions', 25334.0, 0.0029999519634805365, 'Significant difference'], ['Short battery conditions', 22686.5, 0.0007167699131698044, 'Significant difference']]\n"
     ]
    }
   ],
   "source": [
    "\n",
    "import scipy.stats as stats\n",
    "\n",
    "# Perform Mann-Whitney U test and store results\n",
    "results = []\n",
    "statistic, p_value = stats.mannwhitneyu(box_opened_1, box_opened_2)\n",
    "results.append([\"Long battery conditions\", statistic, p_value,\"Significant difference\" if p_value < 0.05 else \"Non significant difference\"])\n",
    "\n",
    "statistic, p_value = stats.mannwhitneyu(box_opened_3, box_opened_4)\n",
    "results.append([\"Short battery conditions\", statistic, p_value,\"Significant difference\" if p_value < 0.05 else \"Non significant difference\"])\n",
    "\n",
    "# Create a DataFrame to store the results\n",
    "columns = [\"Test\", \"Statistic\", \"P-Value\", \"Significance\"]\n",
    "results_df = pd.DataFrame(results, columns=columns)\n",
    "\n",
    "# Save the results to a CSV file\n",
    "results_df.to_csv('BoxOpenedFirstArea_mannwhitneyresults.csv', index=False)\n",
    "\n",
    "print(\"Results saved to 'BoxOpenedFirstArea_mannwhitneyresults.csv'.\")\n",
    "print(results)"
   ]
  },
  {
   "cell_type": "code",
   "execution_count": 32,
   "metadata": {},
   "outputs": [
    {
     "name": "stdout",
     "output_type": "stream",
     "text": [
      "Mean for box_opened_1 and box_opened_2 combined: 3.4606299212598426\n",
      "Standard Deviation for box_opened_1 and box_opened_2 combined: 1.1084967106536288\n",
      "Mann-Whitney U test for conditions with long battery: 25334.0 0.0029999519634805365\n",
      "Significant difference\n",
      "Mean for box_opened_3 and box_opened_4 combined: 2.6841046277665996\n",
      "Standard Deviation for box_opened_3 and box_opened_4 combined: 1.1430873744348091\n",
      "Mann-Whitney U test for conditions with short battery: 22686.5 0.0007167699131698044\n",
      "Significant difference\n"
     ]
    }
   ],
   "source": [
    "import scipy.stats as stats\n",
    "import numpy as np\n",
    "\n",
    "# Concatenate box_opened_1 and box_opened_2\n",
    "combined_1 = np.concatenate((box_opened_1, box_opened_2))\n",
    "# Calculate mean and standard deviation for combined data\n",
    "mean_combined_1 = np.mean(combined_1)\n",
    "std_dev_combined_1 = np.std(combined_1)\n",
    "\n",
    "print(\"Mean for box_opened_1 and box_opened_2 combined:\", mean_combined_1)\n",
    "print(\"Standard Deviation for box_opened_1 and box_opened_2 combined:\", std_dev_combined_1)\n",
    "\n",
    "# Perform Mann-Whitney U test for box_opened_1 and box_opened_2\n",
    "statistic, p_value = stats.mannwhitneyu(box_opened_1, box_opened_2)\n",
    "print(\"Mann-Whitney U test for conditions with long battery:\", statistic, p_value)\n",
    "\n",
    "alpha = 0.05\n",
    "if p_value < alpha:\n",
    "    print(\"Significant difference\")\n",
    "else:\n",
    "    print(\"No significant difference\")\n",
    "\n",
    "\n",
    "# Concatenate box_opened_3 and box_opened_4\n",
    "combined_2 = np.concatenate((box_opened_3, box_opened_4))\n",
    "# Calculate mean and standard deviation for combined data\n",
    "mean_combined_2 = np.mean(combined_2)\n",
    "std_dev_combined_2 = np.std(combined_2)\n",
    "\n",
    "print(\"Mean for box_opened_3 and box_opened_4 combined:\", mean_combined_2)\n",
    "print(\"Standard Deviation for box_opened_3 and box_opened_4 combined:\", std_dev_combined_2)\n",
    "\n",
    "# Perform Mann-Whitney U test for box_opened_3 and box_opened_4\n",
    "statistic, p_value = stats.mannwhitneyu(box_opened_3, box_opened_4)\n",
    "print(\"Mann-Whitney U test for conditions with short battery:\", statistic, p_value)\n",
    "\n",
    "alpha = 0.05\n",
    "if p_value < alpha:\n",
    "    print(\"Significant difference\")\n",
    "else:\n",
    "    print(\"No significant difference\")\n"
   ]
  },
  {
   "cell_type": "code",
   "execution_count": 33,
   "metadata": {},
   "outputs": [
    {
     "data": {
      "text/plain": [
       "array([1, 3, 4, 2, 3, 3, 3, 3, 4, 5, 4, 4, 3, 3, 4, 3, 3, 5, 3, 0, 4, 1,\n",
       "       3, 4, 3, 3, 3, 3, 5, 3, 5, 5, 5, 5, 5, 5, 5, 5, 4, 4, 3, 4, 1, 1,\n",
       "       1, 4, 0, 1, 2, 2, 4, 3, 4, 4, 3, 5, 5, 4, 4, 5, 3, 5, 4, 4, 3, 4,\n",
       "       4, 4, 4, 3, 5, 3, 4, 3, 5, 5, 3, 3, 3, 5, 5, 4, 5, 5, 5, 5, 5, 3,\n",
       "       3, 5, 2, 4, 3, 3, 1, 3, 2, 5, 2, 3, 3, 3, 3, 3, 3, 2, 4, 4, 4, 4,\n",
       "       3, 2, 3, 3, 4, 2, 4, 3, 2, 2, 5, 3, 5, 3, 4, 3, 5, 4, 5, 4, 4, 3,\n",
       "       3, 4, 4, 3, 3, 3, 3, 3, 1, 3, 3, 3, 4, 3, 4, 3, 3, 3, 4, 3, 3, 2,\n",
       "       3, 4, 4, 1, 4, 2, 3, 4, 5, 1, 3, 4, 3, 2, 4, 2, 4, 4, 4, 1, 2, 4,\n",
       "       5, 3, 3, 3, 4, 4, 3, 3, 2, 2, 2, 2, 3, 3, 3, 2, 2, 2, 4, 5, 5, 5,\n",
       "       5, 5, 5, 4, 2, 2, 2, 2, 2, 2, 2, 2, 2, 3, 3, 2, 3, 3, 3, 3, 4, 1,\n",
       "       1, 1, 3, 1, 5, 3, 5, 5, 4, 5, 4, 4, 4, 4, 2, 3, 3, 2, 3, 4, 4, 3,\n",
       "       4, 4, 2, 4, 3, 3, 3, 4, 5, 3, 4, 4, 3, 2, 2, 2, 2, 3, 3, 3, 4, 3,\n",
       "       4, 4, 3, 3, 5, 2, 1, 3, 2, 2, 5, 5, 5, 2, 3, 3, 4, 3, 3, 4, 3, 5,\n",
       "       4, 5, 4, 5, 5, 4, 4, 5, 3, 4, 4, 4, 4, 4, 4, 4, 4, 3, 4, 4, 4, 4,\n",
       "       3, 4, 3, 3, 3, 3, 2, 2, 4, 3, 5, 3, 4, 3, 4])"
      ]
     },
     "execution_count": 33,
     "metadata": {},
     "output_type": "execute_result"
    }
   ],
   "source": [
    "box_opened_1"
   ]
  },
  {
   "cell_type": "code",
   "execution_count": 34,
   "metadata": {},
   "outputs": [
    {
     "data": {
      "image/png": "[encoded data removed]",
      "text/plain": [
       "<Figure size 1000x600 with 1 Axes>"
      ]
     },
     "metadata": {},
     "output_type": "display_data"
    }
   ],
   "source": [
    "import matplotlib.pyplot as plt\n",
    "\n",
    "data_long_battery = [box_opened_1, box_opened_2]\n",
    "data_short_battery = [box_opened_3, box_opened_4]\n",
    "\n",
    "# Combine data for Long Battery and Short Battery\n",
    "data = data_long_battery + data_short_battery\n",
    "\n",
    "# Create a single subplot\n",
    "fig, ax = plt.subplots(figsize=(10, 6))\n",
    "\n",
    "# Box plot for Long Battery in blue\n",
    "box_long_battery = ax.boxplot(data_long_battery, positions=[1, 2],\n",
    "                              labels=[\n",
    "                                \"Rich environment, \\nfirst area rich\",\n",
    "                                \"Poor environment, \\nfirst area rich\",\n",
    "                              ], patch_artist=True)\n",
    "\n",
    "# Customize the box plot for Long Battery\n",
    "colors_long_battery = ['lightblue', 'lightblue']\n",
    "for patch, color in zip(box_long_battery['boxes'], colors_long_battery):\n",
    "    patch.set_facecolor(color)\n",
    "    patch.set_edgecolor('black')\n",
    "for whisker in box_long_battery['whiskers']:\n",
    "    whisker.set(color='black', linestyle='-', linewidth=1.5)\n",
    "for median in box_long_battery['medians']:\n",
    "    median.set(color='red', linewidth=2)\n",
    "\n",
    "# Box plot for Short Battery in green\n",
    "box_short_battery = ax.boxplot(data_short_battery, positions=[3, 4],\n",
    "                               labels=[\n",
    "                                \"Rich environment, \\nfirst area rich\",\n",
    "                                \"Poor environment, \\nfirst area rich\",\n",
    "                               ], patch_artist=True)\n",
    "\n",
    "# Customize the box plot for Short Battery\n",
    "colors_short_battery = ['lightgreen', 'lightgreen']\n",
    "for patch, color in zip(box_short_battery['boxes'], colors_short_battery):\n",
    "    patch.set_facecolor(color)\n",
    "    patch.set_edgecolor('black')\n",
    "for whisker in box_short_battery['whiskers']:\n",
    "    whisker.set(color='black', linestyle='-', linewidth=1.5)\n",
    "for median in box_short_battery['medians']:\n",
    "    median.set(color='red', linewidth=2)\n",
    "\n",
    "# Set title and labels\n",
    "ax.set_ylabel('Number of boxes opened in the first area', fontsize=12)\n",
    "ax.tick_params(axis='both', labelsize=12)\n",
    "\n",
    "# Add legend\n",
    "legend_labels = ['Long Battery trials ', 'Short Battery trials ']\n",
    "legend_handles = [plt.Line2D([0], [0], marker='s', color='w', markerfacecolor=color, markersize=10) for color in\n",
    "                  ['lightblue', 'lightgreen']]\n",
    "\n",
    "ax.legend(legend_handles, legend_labels, loc='upper right')\n",
    "\n",
    "ax.set_ylim([-0.25, 6]) #questo mi permette di alzare l'asse delle y così che la legend non vada sul boxplot\n",
    "\n",
    "# Tight layout\n",
    "plt.tight_layout()\n",
    "\n",
    "\n",
    "plt.show()"
   ]
  }
 ],
 "metadata": {
  "kernelspec": {
   "display_name": "Python 3",
   "language": "python",
   "name": "python3"
  },
  "language_info": {
   "codemirror_mode": {
    "name": "ipython",
    "version": 3
   },
   "file_extension": ".py",
   "mimetype": "text/x-python",
   "name": "python",
   "nbconvert_exporter": "python",
   "pygments_lexer": "ipython3",
   "version": "3.10.11"
  },
  "orig_nbformat": 4,
  "vscode": {
   "interpreter": {
    "hash": "aee8b7b246df8f9039afb4144a1f6fd8d2ca17a180786b69acc140d282b71a49"
   }
  }
 },
 "nbformat": 4,
 "nbformat_minor": 2
}
