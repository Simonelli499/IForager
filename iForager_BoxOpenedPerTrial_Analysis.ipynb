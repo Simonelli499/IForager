{
 "cells": [
  {
   "cell_type": "code",
   "execution_count": 1,
   "metadata": {},
   "outputs": [],
   "source": [
    "#in questo notebook faccio LMM e t-test (sia parametrico che non) per vedere l'impatto delle mie VI sulla VD = BoxOpenedPerTrial (i.e., numero di box aperte per trial)"
   ]
  },
  {
   "cell_type": "code",
   "execution_count": 2,
   "metadata": {},
   "outputs": [],
   "source": [
    "import json\n",
    "import os\n",
    "from collections import Counter\n",
    "import matplotlib.pyplot as plt\n",
    "import matplotlib.patches as mpatches\n",
    "import numpy as np\n",
    "import scipy.optimize as opt\n",
    "import pandas as pd\n",
    "import statsmodels.api as sm\n",
    "import statsmodels.formula.api as smf\n",
    "from copy import deepcopy"
   ]
  },
  {
   "cell_type": "code",
   "execution_count": 3,
   "metadata": {},
   "outputs": [],
   "source": [
    "import statsmodels.api as sm\n",
    "import statsmodels.formula.api as smf\n",
    "import pandas as pd"
   ]
  },
  {
   "cell_type": "code",
   "execution_count": 4,
   "metadata": {},
   "outputs": [],
   "source": [
    "data = pd.read_csv('out/results.csv')  # read data"
   ]
  },
  {
   "cell_type": "code",
   "execution_count": 5,
   "metadata": {},
   "outputs": [
    {
     "name": "stdout",
     "output_type": "stream",
     "text": [
      "             Mixed Linear Model Regression Results\n",
      "===============================================================\n",
      "Model:            MixedLM Dependent Variable: BoxOpenedPerTrial\n",
      "No. Observations: 1240    Method:             REML             \n",
      "No. Groups:       31      Scale:              2.1014           \n",
      "Min. group size:  40      Log-Likelihood:     -2321.9720       \n",
      "Max. group size:  40      Converged:          Yes              \n",
      "Mean group size:  40.0                                         \n",
      "----------------------------------------------------------------\n",
      "                 Coef.   Std.Err.    z     P>|z|  [0.025  0.975]\n",
      "----------------------------------------------------------------\n",
      "LongBattery       5.413     0.082  65.680  0.000   5.251   5.574\n",
      "RichEnvironment   0.297     0.098   3.026  0.002   0.105   0.490\n",
      "FirstAreaRich     0.043     0.116   0.366  0.714  -0.186   0.271\n",
      "Group Var        31.511     5.631                               \n",
      "===============================================================\n",
      "\n",
      "                         Mixed Linear Model Regression Results\n",
      "========================================================================================\n",
      "Model:                     MixedLM         Dependent Variable:         BoxOpenedPerTrial\n",
      "No. Observations:          1240            Method:                     REML             \n",
      "No. Groups:                31              Scale:                      2.1040           \n",
      "Min. group size:           40              Log-Likelihood:             -2270.7629       \n",
      "Max. group size:           40              Converged:                  Yes              \n",
      "Mean group size:           40.0                                                         \n",
      "----------------------------------------------------------------------------------------\n",
      "                                              Coef.  Std.Err.   z    P>|z| [0.025 0.975]\n",
      "----------------------------------------------------------------------------------------\n",
      "Intercept                                      5.599    0.223 25.155 0.000  5.163  6.035\n",
      "LongBattery[T.True]                            5.307    0.171 31.056 0.000  4.972  5.642\n",
      "FirstAreaRich[T.True]                          0.007    0.166  0.043 0.966 -0.318  0.332\n",
      "RichEnvironment[T.True]                        0.730    0.879  0.831 0.406 -0.992  2.453\n",
      "LongBattery[T.True]:FirstAreaRich[T.True]      0.016    0.234  0.067 0.946 -0.442  0.474\n",
      "LongBattery[T.True]:RichEnvironment[T.True]    0.148    0.198  0.751 0.453 -0.239  0.535\n",
      "RichEnvironment[T.True]:FirstAreaRich[T.True] -0.516    0.868 -0.594 0.552 -2.217  1.185\n",
      "Group Var                                      1.098    0.207                           \n",
      "========================================================================================\n",
      "\n"
     ]
    }
   ],
   "source": [
    "import statsmodels\n",
    "\n",
    "endog = data[\"BoxOpenedPerTrial\"] # variabile dipendente - VisitedAreas si riferisce al numero di aree visitate dal soggetto in quel trial\n",
    "exog = data[[\"LongBattery\",\"RichEnvironment\",\"FirstAreaRich\"]] # variabili indipendenti\n",
    "\n",
    "\n",
    "groups = data['Subject'] # nel modello lineare misto devo mettere il gruppo\n",
    "model = statsmodels.regression.mixed_linear_model.MixedLM(endog, exog, groups)\n",
    "result = model.fit()\n",
    "print(result.summary())\n",
    "\n",
    "formula = \"BoxOpenedPerTrial ~  LongBattery * FirstAreaRich + LongBattery * RichEnvironment + RichEnvironment * FirstAreaRich\" \n",
    "\n",
    "\n",
    "model = smf.mixedlm(formula, data=data, groups = data['Subject'])\n",
    "\n",
    "result = model.fit()\n",
    "print(result.summary())"
   ]
  },
  {
   "cell_type": "code",
   "execution_count": 6,
   "metadata": {},
   "outputs": [],
   "source": [
    "condizione_15 = (data[\"LongBattery\"] == True) & (data[\"RichEnvironment\"] == True) & (data[\"FirstAreaRich\"] == True)\n",
    "data15 = data [condizione_15]\n",
    "\n",
    "condizione_16 = (data[\"LongBattery\"] == True) & (data[\"RichEnvironment\"] == False) & (data[\"FirstAreaRich\"] == True)\n",
    "data16 = data [condizione_16]\n",
    "\n",
    "condizione_17 = (data[\"LongBattery\"] == False) & (data[\"RichEnvironment\"] == True) & (data[\"FirstAreaRich\"] == True)\n",
    "data17 = data [condizione_17]\n",
    "\n",
    "condizione_18 = (data[\"LongBattery\"] == False) & (data[\"RichEnvironment\"] == False) & (data[\"FirstAreaRich\"] == True)\n",
    "data18 = data [condizione_18]\n",
    "\n",
    "\n",
    "\n",
    "box_opened_per_trial_15 = data15[\"BoxOpenedPerTrial\"] \n",
    "box_opened_per_trial_15  = box_opened_per_trial_15 .to_numpy() \n",
    "\n",
    "box_opened_per_trial_16 = data16[\"BoxOpenedPerTrial\"] \n",
    "box_opened_per_trial_16 = box_opened_per_trial_16.to_numpy() \n",
    "\n",
    "box_opened_per_trial_17 = data17[\"BoxOpenedPerTrial\"] \n",
    "box_opened_per_trial_17 = box_opened_per_trial_17.to_numpy()\n",
    "\n",
    "box_opened_per_trial_18 = data18[\"BoxOpenedPerTrial\"]\n",
    "box_opened_per_trial_18 = box_opened_per_trial_18.to_numpy()"
   ]
  },
  {
   "cell_type": "code",
   "execution_count": 7,
   "metadata": {},
   "outputs": [
    {
     "data": {
      "text/plain": [
       "(array([ 0.,  0.,  2.,  5., 27., 44., 41., 32., 10.]),\n",
       " array([0., 1., 2., 3., 4., 5., 6., 7., 8., 9.]),\n",
       " <BarContainer object of 9 artists>)"
      ]
     },
     "execution_count": 7,
     "metadata": {},
     "output_type": "execute_result"
    },
    {
     "data": {
      "image/png": "[encoded data removed]",
      "text/plain": [
       "<Figure size 640x480 with 1 Axes>"
      ]
     },
     "metadata": {},
     "output_type": "display_data"
    },
    {
     "data": {
      "image/png": "[encoded data removed]",
      "text/plain": [
       "<Figure size 640x480 with 1 Axes>"
      ]
     },
     "metadata": {},
     "output_type": "display_data"
    },
    {
     "data": {
      "image/png": "[encoded data removed]",
      "text/plain": [
       "<Figure size 640x480 with 1 Axes>"
      ]
     },
     "metadata": {},
     "output_type": "display_data"
    },
    {
     "data": {
      "image/png": "[encoded data removed]",
      "text/plain": [
       "<Figure size 640x480 with 1 Axes>"
      ]
     },
     "metadata": {},
     "output_type": "display_data"
    }
   ],
   "source": [
    "\n",
    "plt.figure()\n",
    "plt.hist(box_opened_per_trial_15,np.arange(10))\n",
    "\n",
    "plt.figure()\n",
    "plt.hist(box_opened_per_trial_16,np.arange(10))\n",
    "\n",
    "plt.figure()\n",
    "plt.hist(box_opened_per_trial_17,np.arange(10))\n",
    "\n",
    "plt.figure()\n",
    "plt.hist(box_opened_per_trial_18,np.arange(10))"
   ]
  },
  {
   "cell_type": "code",
   "execution_count": 8,
   "metadata": {},
   "outputs": [
    {
     "name": "stdout",
     "output_type": "stream",
     "text": [
      "t-test a campioni indipendenti sulle condizioni con la batteria lunga: 1.7291444311176254 0.08443296307075257\n",
      "Nessuna differenza significativa\n",
      "t-test a campioni indipendenti sulle condizioni con la batteria corta: 1.6592697169399164 0.09773138601708146\n",
      "Nessuna differenza significativa\n"
     ]
    }
   ],
   "source": [
    "# a seguire faccio il t-test\n",
    "\n",
    "import scipy.stats as stats\n",
    "\n",
    "# t-test delle condizioni in cui la batteria è lunga\n",
    "t_stat, p_value = stats.ttest_ind(box_opened_per_trial_15, box_opened_per_trial_16)\n",
    "print(\"t-test a campioni indipendenti sulle condizioni con la batteria lunga:\", t_stat, p_value)\n",
    "\n",
    "alpha = 0.05\n",
    "if p_value < alpha:\n",
    "    print(\"Differenza significativa\")\n",
    "else:\n",
    "    print(\"Nessuna differenza significativa\")\n",
    "\n",
    "\n",
    "\n",
    "# t-test delle condizioni in cui la batteria è corta\n",
    "t_stat, p_value = stats.ttest_ind(box_opened_per_trial_17, box_opened_per_trial_18)\n",
    "print(\"t-test a campioni indipendenti sulle condizioni con la batteria corta:\", t_stat, p_value)\n",
    "\n",
    "alpha = 0.05\n",
    "if p_value < alpha:\n",
    "    print(\"Differenza significativa\")\n",
    "else:\n",
    "    print(\"Nessuna differenza significativa\")"
   ]
  },
  {
   "cell_type": "code",
   "execution_count": 9,
   "metadata": {},
   "outputs": [
    {
     "name": "stdout",
     "output_type": "stream",
     "text": [
      "t-test non parametrico (Wilconxon-Mann-Whitney) sulle condizioni con la batteria lunga: 28473.0 0.1409312352563917\n",
      "Nessuna differenza significativa\n",
      "t-test non parametrico (Wilconxon-Mann-Whitney) sulle condizioni con la batteria corta: 26645.0 0.1959281017631188\n",
      "Nessuna differenza significativa\n"
     ]
    }
   ],
   "source": [
    "import scipy.stats as stats\n",
    "\n",
    "\n",
    "statistic, p_value = stats.mannwhitneyu(box_opened_per_trial_15, box_opened_per_trial_16)\n",
    "print(\"t-test non parametrico (Wilconxon-Mann-Whitney) sulle condizioni con la batteria lunga:\", statistic, p_value)\n",
    "\n",
    "alpha = 0.05\n",
    "if p_value < alpha:\n",
    "    print(\"Differenza significativa\")\n",
    "else:\n",
    "    print(\"Nessuna differenza significativa\")\n",
    "\n",
    "\n",
    "\n",
    "statistic, p_value = stats.mannwhitneyu(box_opened_per_trial_17, box_opened_per_trial_18)\n",
    "print(\"t-test non parametrico (Wilconxon-Mann-Whitney) sulle condizioni con la batteria corta:\", statistic, p_value)\n",
    "\n",
    "alpha = 0.05\n",
    "if p_value < alpha:\n",
    "    print(\"Differenza significativa\")\n",
    "else:\n",
    "    print(\"Nessuna differenza significativa\")"
   ]
  },
  {
   "cell_type": "code",
   "execution_count": 11,
   "metadata": {},
   "outputs": [
    {
     "name": "stdout",
     "output_type": "stream",
     "text": [
      "Results saved to 'BoxOpenedPerTrial_mannwhitneyresults.csv'.\n",
      "[['Long battery conditions', 28473.0, 0.1409312352563917, 'Non significant difference'], ['Short battery conditions', 26645.0, 0.1959281017631188, 'Non significant difference']]\n"
     ]
    }
   ],
   "source": [
    "# Perform Mann-Whitney U test and store results\n",
    "results = []\n",
    "statistic, p_value = stats.mannwhitneyu(box_opened_per_trial_15, box_opened_per_trial_16)\n",
    "results.append([\"Long battery conditions\", statistic, p_value, \"Significant difference\" if p_value < 0.05 else \"Non significant difference\"])\n",
    "\n",
    "statistic, p_value = stats.mannwhitneyu(box_opened_per_trial_17, box_opened_per_trial_18)\n",
    "results.append([\"Short battery conditions\", statistic, p_value, \"Significant difference\" if p_value < 0.05 else \"Non significant difference\"])\n",
    "\n",
    "# Create a DataFrame to store the results\n",
    "columns = [\"Test\", \"Statistic\", \"P-Value\", \"Significance\"]\n",
    "results_df = pd.DataFrame(results, columns=columns)\n",
    "\n",
    "# Save the results to a CSV file\n",
    "results_df.to_csv('BoxOpenedPerTrial_mannwhitneyresults.csv', index=False)\n",
    "\n",
    "print(\"Results saved to 'BoxOpenedPerTrial_mannwhitneyresults.csv'.\")\n",
    "print(results)"
   ]
  }
 ],
 "metadata": {
  "kernelspec": {
   "display_name": "Python 3",
   "language": "python",
   "name": "python3"
  },
  "language_info": {
   "codemirror_mode": {
    "name": "ipython",
    "version": 3
   },
   "file_extension": ".py",
   "mimetype": "text/x-python",
   "name": "python",
   "nbconvert_exporter": "python",
   "pygments_lexer": "ipython3",
   "version": "3.10.11 (v3.10.11:7d4cc5aa85, Apr  4 2023, 19:05:19) [Clang 13.0.0 (clang-1300.0.29.30)]"
  },
  "orig_nbformat": 4,
  "vscode": {
   "interpreter": {
    "hash": "aee8b7b246df8f9039afb4144a1f6fd8d2ca17a180786b69acc140d282b71a49"
   }
  }
 },
 "nbformat": 4,
 "nbformat_minor": 2
}
